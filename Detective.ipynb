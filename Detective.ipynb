{
  "cells": [
    {
      "cell_type": "markdown",
      "metadata": {
        "id": "PBlXjzjIZe5m"
      },
      "source": [
        "## Detective: Fraud Detection Analysis\n",
        "\n",
        "The goal of the `Detective` project is to leverage artificial intelligence (AI), to detect fraudualent credit card transactions.\n",
        "\n",
        "We'll explore various classification algorithms, such as Logistic Regression and Random Forest Classifier, along with ensemble methods including bagging, boosting, and stacking, and assess their performance for this specific task.\n",
        "\n",
        "These models can serve various purposes and find applications in different contexts, such as:\n",
        "\n",
        "- **Credit Card Fraud Detection**: Identifying unauthorized transactions on credit or debit cards in real-time to prevent financial loss for both cardholders and financial institutions.\n",
        "  \n",
        "- **Banking Fraud Prevention**: Identifying unusual patterns in banking transactions, such as money laundering or account hacking attempts, to safeguard customers' funds and financial integrity.\n",
        "  \n",
        "- **Online Payment Fraud Prevention**: Detecting fraudulent activities in online payment processes, such as phishing scams or identity theft during online transactions, to enhance security for consumers and businesses."
      ]
    },
    {
      "cell_type": "markdown",
      "metadata": {
        "id": "BmtBIESkZe5t"
      },
      "source": [
        "## Dataset"
      ]
    },
    {
      "cell_type": "markdown",
      "metadata": {
        "id": "AGXe-lSMZe5u"
      },
      "source": [
        "### Loading the dataset\n",
        "\n",
        "To train our model, we will utilize a labeled \"simulated credit card transactions\" dataset from Kaggle (source: https://www.kaggle.com/datasets/kartik2112/fraud-detection)."
      ]
    },
    {
      "cell_type": "code",
      "execution_count": 1,
      "metadata": {
        "colab": {
          "base_uri": "https://localhost:8080/"
        },
        "id": "GhEpWggrFFyx",
        "outputId": "6a229acd-4731-4578-ccf1-0e07a98ef678"
      },
      "outputs": [
        {
          "name": "stdout",
          "output_type": "stream",
          "text": [
            "Dataset URL: https://www.kaggle.com/datasets/kartik2112/fraud-detection\n",
            "License(s): CC0-1.0\n",
            "Downloading fraud-detection.zip to /content\n",
            " 96% 193M/202M [00:02<00:00, 120MB/s]\n",
            "100% 202M/202M [00:02<00:00, 94.3MB/s]\n"
          ]
        }
      ],
      "source": [
        "# download data from kaggle\n",
        "!kaggle datasets download -d kartik2112/fraud-detection"
      ]
    },
    {
      "cell_type": "code",
      "execution_count": 2,
      "metadata": {
        "colab": {
          "base_uri": "https://localhost:8080/"
        },
        "id": "_72bPOLMF0pj",
        "outputId": "6e20076d-e7c7-41a0-c1e2-8b31d18b3ad0"
      },
      "outputs": [
        {
          "name": "stdout",
          "output_type": "stream",
          "text": [
            "Archive:  fraud-detection.zip\n",
            "  inflating: fraudTest.csv           \n",
            "  inflating: fraudTrain.csv          \n"
          ]
        }
      ],
      "source": [
        "# unzip the dataset\n",
        "!unzip fraud-detection.zip"
      ]
    },
    {
      "cell_type": "code",
      "execution_count": 3,
      "metadata": {
        "id": "-3Ym9KNNF9Dr"
      },
      "outputs": [],
      "source": [
        "# import packages for data exploration\n",
        "\n",
        "import matplotlib.pyplot as plt\n",
        "import numpy as np\n",
        "import pandas as pd\n",
        "pd.set_option('display.max_columns', None)"
      ]
    },
    {
      "cell_type": "markdown",
      "metadata": {
        "id": "5qqQxz3MZe5z"
      },
      "source": [
        "### Exploring the dataset\n",
        "\n",
        "The dataset consists of Train and Test records in .csv format.\n",
        "\n",
        "First, we'll load and explore the training data.\n"
      ]
    },
    {
      "cell_type": "code",
      "execution_count": 4,
      "metadata": {
        "colab": {
          "base_uri": "https://localhost:8080/",
          "height": 337
        },
        "id": "kUUmo8PIG8Ip",
        "outputId": "b1b839c0-442e-49b5-febe-7dc20b28e3c2"
      },
      "outputs": [
        {
          "data": {
            "application/vnd.google.colaboratory.intrinsic+json": {
              "type": "dataframe",
              "variable_name": "df"
            },
            "text/html": [
              "\n",
              "  <div id=\"df-b69221a4-5e57-49ee-977b-53a3de439517\" class=\"colab-df-container\">\n",
              "    <div>\n",
              "<style scoped>\n",
              "    .dataframe tbody tr th:only-of-type {\n",
              "        vertical-align: middle;\n",
              "    }\n",
              "\n",
              "    .dataframe tbody tr th {\n",
              "        vertical-align: top;\n",
              "    }\n",
              "\n",
              "    .dataframe thead th {\n",
              "        text-align: right;\n",
              "    }\n",
              "</style>\n",
              "<table border=\"1\" class=\"dataframe\">\n",
              "  <thead>\n",
              "    <tr style=\"text-align: right;\">\n",
              "      <th></th>\n",
              "      <th>trans_date_trans_time</th>\n",
              "      <th>cc_num</th>\n",
              "      <th>merchant</th>\n",
              "      <th>category</th>\n",
              "      <th>amt</th>\n",
              "      <th>first</th>\n",
              "      <th>last</th>\n",
              "      <th>gender</th>\n",
              "      <th>street</th>\n",
              "      <th>city</th>\n",
              "      <th>state</th>\n",
              "      <th>zip</th>\n",
              "      <th>lat</th>\n",
              "      <th>long</th>\n",
              "      <th>city_pop</th>\n",
              "      <th>job</th>\n",
              "      <th>dob</th>\n",
              "      <th>trans_num</th>\n",
              "      <th>unix_time</th>\n",
              "      <th>merch_lat</th>\n",
              "      <th>merch_long</th>\n",
              "      <th>is_fraud</th>\n",
              "    </tr>\n",
              "  </thead>\n",
              "  <tbody>\n",
              "    <tr>\n",
              "      <th>0</th>\n",
              "      <td>2019-01-01 00:00:18</td>\n",
              "      <td>2703186189652095</td>\n",
              "      <td>fraud_Rippin, Kub and Mann</td>\n",
              "      <td>misc_net</td>\n",
              "      <td>4.97</td>\n",
              "      <td>Jennifer</td>\n",
              "      <td>Banks</td>\n",
              "      <td>F</td>\n",
              "      <td>561 Perry Cove</td>\n",
              "      <td>Moravian Falls</td>\n",
              "      <td>NC</td>\n",
              "      <td>28654</td>\n",
              "      <td>36.0788</td>\n",
              "      <td>-81.1781</td>\n",
              "      <td>3495</td>\n",
              "      <td>Psychologist, counselling</td>\n",
              "      <td>1988-03-09</td>\n",
              "      <td>0b242abb623afc578575680df30655b9</td>\n",
              "      <td>1325376018</td>\n",
              "      <td>36.011293</td>\n",
              "      <td>-82.048315</td>\n",
              "      <td>0</td>\n",
              "    </tr>\n",
              "    <tr>\n",
              "      <th>1</th>\n",
              "      <td>2019-01-01 00:00:44</td>\n",
              "      <td>630423337322</td>\n",
              "      <td>fraud_Heller, Gutmann and Zieme</td>\n",
              "      <td>grocery_pos</td>\n",
              "      <td>107.23</td>\n",
              "      <td>Stephanie</td>\n",
              "      <td>Gill</td>\n",
              "      <td>F</td>\n",
              "      <td>43039 Riley Greens Suite 393</td>\n",
              "      <td>Orient</td>\n",
              "      <td>WA</td>\n",
              "      <td>99160</td>\n",
              "      <td>48.8878</td>\n",
              "      <td>-118.2105</td>\n",
              "      <td>149</td>\n",
              "      <td>Special educational needs teacher</td>\n",
              "      <td>1978-06-21</td>\n",
              "      <td>1f76529f8574734946361c461b024d99</td>\n",
              "      <td>1325376044</td>\n",
              "      <td>49.159047</td>\n",
              "      <td>-118.186462</td>\n",
              "      <td>0</td>\n",
              "    </tr>\n",
              "    <tr>\n",
              "      <th>2</th>\n",
              "      <td>2019-01-01 00:00:51</td>\n",
              "      <td>38859492057661</td>\n",
              "      <td>fraud_Lind-Buckridge</td>\n",
              "      <td>entertainment</td>\n",
              "      <td>220.11</td>\n",
              "      <td>Edward</td>\n",
              "      <td>Sanchez</td>\n",
              "      <td>M</td>\n",
              "      <td>594 White Dale Suite 530</td>\n",
              "      <td>Malad City</td>\n",
              "      <td>ID</td>\n",
              "      <td>83252</td>\n",
              "      <td>42.1808</td>\n",
              "      <td>-112.2620</td>\n",
              "      <td>4154</td>\n",
              "      <td>Nature conservation officer</td>\n",
              "      <td>1962-01-19</td>\n",
              "      <td>a1a22d70485983eac12b5b88dad1cf95</td>\n",
              "      <td>1325376051</td>\n",
              "      <td>43.150704</td>\n",
              "      <td>-112.154481</td>\n",
              "      <td>0</td>\n",
              "    </tr>\n",
              "  </tbody>\n",
              "</table>\n",
              "</div>\n",
              "    <div class=\"colab-df-buttons\">\n",
              "\n",
              "  <div class=\"colab-df-container\">\n",
              "    <button class=\"colab-df-convert\" onclick=\"convertToInteractive('df-b69221a4-5e57-49ee-977b-53a3de439517')\"\n",
              "            title=\"Convert this dataframe to an interactive table.\"\n",
              "            style=\"display:none;\">\n",
              "\n",
              "  <svg xmlns=\"http://www.w3.org/2000/svg\" height=\"24px\" viewBox=\"0 -960 960 960\">\n",
              "    <path d=\"M120-120v-720h720v720H120Zm60-500h600v-160H180v160Zm220 220h160v-160H400v160Zm0 220h160v-160H400v160ZM180-400h160v-160H180v160Zm440 0h160v-160H620v160ZM180-180h160v-160H180v160Zm440 0h160v-160H620v160Z\"/>\n",
              "  </svg>\n",
              "    </button>\n",
              "\n",
              "  <style>\n",
              "    .colab-df-container {\n",
              "      display:flex;\n",
              "      gap: 12px;\n",
              "    }\n",
              "\n",
              "    .colab-df-convert {\n",
              "      background-color: #E8F0FE;\n",
              "      border: none;\n",
              "      border-radius: 50%;\n",
              "      cursor: pointer;\n",
              "      display: none;\n",
              "      fill: #1967D2;\n",
              "      height: 32px;\n",
              "      padding: 0 0 0 0;\n",
              "      width: 32px;\n",
              "    }\n",
              "\n",
              "    .colab-df-convert:hover {\n",
              "      background-color: #E2EBFA;\n",
              "      box-shadow: 0px 1px 2px rgba(60, 64, 67, 0.3), 0px 1px 3px 1px rgba(60, 64, 67, 0.15);\n",
              "      fill: #174EA6;\n",
              "    }\n",
              "\n",
              "    .colab-df-buttons div {\n",
              "      margin-bottom: 4px;\n",
              "    }\n",
              "\n",
              "    [theme=dark] .colab-df-convert {\n",
              "      background-color: #3B4455;\n",
              "      fill: #D2E3FC;\n",
              "    }\n",
              "\n",
              "    [theme=dark] .colab-df-convert:hover {\n",
              "      background-color: #434B5C;\n",
              "      box-shadow: 0px 1px 3px 1px rgba(0, 0, 0, 0.15);\n",
              "      filter: drop-shadow(0px 1px 2px rgba(0, 0, 0, 0.3));\n",
              "      fill: #FFFFFF;\n",
              "    }\n",
              "  </style>\n",
              "\n",
              "    <script>\n",
              "      const buttonEl =\n",
              "        document.querySelector('#df-b69221a4-5e57-49ee-977b-53a3de439517 button.colab-df-convert');\n",
              "      buttonEl.style.display =\n",
              "        google.colab.kernel.accessAllowed ? 'block' : 'none';\n",
              "\n",
              "      async function convertToInteractive(key) {\n",
              "        const element = document.querySelector('#df-b69221a4-5e57-49ee-977b-53a3de439517');\n",
              "        const dataTable =\n",
              "          await google.colab.kernel.invokeFunction('convertToInteractive',\n",
              "                                                    [key], {});\n",
              "        if (!dataTable) return;\n",
              "\n",
              "        const docLinkHtml = 'Like what you see? Visit the ' +\n",
              "          '<a target=\"_blank\" href=https://colab.research.google.com/notebooks/data_table.ipynb>data table notebook</a>'\n",
              "          + ' to learn more about interactive tables.';\n",
              "        element.innerHTML = '';\n",
              "        dataTable['output_type'] = 'display_data';\n",
              "        await google.colab.output.renderOutput(dataTable, element);\n",
              "        const docLink = document.createElement('div');\n",
              "        docLink.innerHTML = docLinkHtml;\n",
              "        element.appendChild(docLink);\n",
              "      }\n",
              "    </script>\n",
              "  </div>\n",
              "\n",
              "\n",
              "<div id=\"df-1fb1c7a7-65da-4454-9432-98ba2e9f3523\">\n",
              "  <button class=\"colab-df-quickchart\" onclick=\"quickchart('df-1fb1c7a7-65da-4454-9432-98ba2e9f3523')\"\n",
              "            title=\"Suggest charts\"\n",
              "            style=\"display:none;\">\n",
              "\n",
              "<svg xmlns=\"http://www.w3.org/2000/svg\" height=\"24px\"viewBox=\"0 0 24 24\"\n",
              "     width=\"24px\">\n",
              "    <g>\n",
              "        <path d=\"M19 3H5c-1.1 0-2 .9-2 2v14c0 1.1.9 2 2 2h14c1.1 0 2-.9 2-2V5c0-1.1-.9-2-2-2zM9 17H7v-7h2v7zm4 0h-2V7h2v10zm4 0h-2v-4h2v4z\"/>\n",
              "    </g>\n",
              "</svg>\n",
              "  </button>\n",
              "\n",
              "<style>\n",
              "  .colab-df-quickchart {\n",
              "      --bg-color: #E8F0FE;\n",
              "      --fill-color: #1967D2;\n",
              "      --hover-bg-color: #E2EBFA;\n",
              "      --hover-fill-color: #174EA6;\n",
              "      --disabled-fill-color: #AAA;\n",
              "      --disabled-bg-color: #DDD;\n",
              "  }\n",
              "\n",
              "  [theme=dark] .colab-df-quickchart {\n",
              "      --bg-color: #3B4455;\n",
              "      --fill-color: #D2E3FC;\n",
              "      --hover-bg-color: #434B5C;\n",
              "      --hover-fill-color: #FFFFFF;\n",
              "      --disabled-bg-color: #3B4455;\n",
              "      --disabled-fill-color: #666;\n",
              "  }\n",
              "\n",
              "  .colab-df-quickchart {\n",
              "    background-color: var(--bg-color);\n",
              "    border: none;\n",
              "    border-radius: 50%;\n",
              "    cursor: pointer;\n",
              "    display: none;\n",
              "    fill: var(--fill-color);\n",
              "    height: 32px;\n",
              "    padding: 0;\n",
              "    width: 32px;\n",
              "  }\n",
              "\n",
              "  .colab-df-quickchart:hover {\n",
              "    background-color: var(--hover-bg-color);\n",
              "    box-shadow: 0 1px 2px rgba(60, 64, 67, 0.3), 0 1px 3px 1px rgba(60, 64, 67, 0.15);\n",
              "    fill: var(--button-hover-fill-color);\n",
              "  }\n",
              "\n",
              "  .colab-df-quickchart-complete:disabled,\n",
              "  .colab-df-quickchart-complete:disabled:hover {\n",
              "    background-color: var(--disabled-bg-color);\n",
              "    fill: var(--disabled-fill-color);\n",
              "    box-shadow: none;\n",
              "  }\n",
              "\n",
              "  .colab-df-spinner {\n",
              "    border: 2px solid var(--fill-color);\n",
              "    border-color: transparent;\n",
              "    border-bottom-color: var(--fill-color);\n",
              "    animation:\n",
              "      spin 1s steps(1) infinite;\n",
              "  }\n",
              "\n",
              "  @keyframes spin {\n",
              "    0% {\n",
              "      border-color: transparent;\n",
              "      border-bottom-color: var(--fill-color);\n",
              "      border-left-color: var(--fill-color);\n",
              "    }\n",
              "    20% {\n",
              "      border-color: transparent;\n",
              "      border-left-color: var(--fill-color);\n",
              "      border-top-color: var(--fill-color);\n",
              "    }\n",
              "    30% {\n",
              "      border-color: transparent;\n",
              "      border-left-color: var(--fill-color);\n",
              "      border-top-color: var(--fill-color);\n",
              "      border-right-color: var(--fill-color);\n",
              "    }\n",
              "    40% {\n",
              "      border-color: transparent;\n",
              "      border-right-color: var(--fill-color);\n",
              "      border-top-color: var(--fill-color);\n",
              "    }\n",
              "    60% {\n",
              "      border-color: transparent;\n",
              "      border-right-color: var(--fill-color);\n",
              "    }\n",
              "    80% {\n",
              "      border-color: transparent;\n",
              "      border-right-color: var(--fill-color);\n",
              "      border-bottom-color: var(--fill-color);\n",
              "    }\n",
              "    90% {\n",
              "      border-color: transparent;\n",
              "      border-bottom-color: var(--fill-color);\n",
              "    }\n",
              "  }\n",
              "</style>\n",
              "\n",
              "  <script>\n",
              "    async function quickchart(key) {\n",
              "      const quickchartButtonEl =\n",
              "        document.querySelector('#' + key + ' button');\n",
              "      quickchartButtonEl.disabled = true;  // To prevent multiple clicks.\n",
              "      quickchartButtonEl.classList.add('colab-df-spinner');\n",
              "      try {\n",
              "        const charts = await google.colab.kernel.invokeFunction(\n",
              "            'suggestCharts', [key], {});\n",
              "      } catch (error) {\n",
              "        console.error('Error during call to suggestCharts:', error);\n",
              "      }\n",
              "      quickchartButtonEl.classList.remove('colab-df-spinner');\n",
              "      quickchartButtonEl.classList.add('colab-df-quickchart-complete');\n",
              "    }\n",
              "    (() => {\n",
              "      let quickchartButtonEl =\n",
              "        document.querySelector('#df-1fb1c7a7-65da-4454-9432-98ba2e9f3523 button');\n",
              "      quickchartButtonEl.style.display =\n",
              "        google.colab.kernel.accessAllowed ? 'block' : 'none';\n",
              "    })();\n",
              "  </script>\n",
              "</div>\n",
              "\n",
              "    </div>\n",
              "  </div>\n"
            ],
            "text/plain": [
              "  trans_date_trans_time            cc_num                         merchant  \\\n",
              "0   2019-01-01 00:00:18  2703186189652095       fraud_Rippin, Kub and Mann   \n",
              "1   2019-01-01 00:00:44      630423337322  fraud_Heller, Gutmann and Zieme   \n",
              "2   2019-01-01 00:00:51    38859492057661             fraud_Lind-Buckridge   \n",
              "\n",
              "        category     amt      first     last gender  \\\n",
              "0       misc_net    4.97   Jennifer    Banks      F   \n",
              "1    grocery_pos  107.23  Stephanie     Gill      F   \n",
              "2  entertainment  220.11     Edward  Sanchez      M   \n",
              "\n",
              "                         street            city state    zip      lat  \\\n",
              "0                561 Perry Cove  Moravian Falls    NC  28654  36.0788   \n",
              "1  43039 Riley Greens Suite 393          Orient    WA  99160  48.8878   \n",
              "2      594 White Dale Suite 530      Malad City    ID  83252  42.1808   \n",
              "\n",
              "       long  city_pop                                job         dob  \\\n",
              "0  -81.1781      3495          Psychologist, counselling  1988-03-09   \n",
              "1 -118.2105       149  Special educational needs teacher  1978-06-21   \n",
              "2 -112.2620      4154        Nature conservation officer  1962-01-19   \n",
              "\n",
              "                          trans_num   unix_time  merch_lat  merch_long  \\\n",
              "0  0b242abb623afc578575680df30655b9  1325376018  36.011293  -82.048315   \n",
              "1  1f76529f8574734946361c461b024d99  1325376044  49.159047 -118.186462   \n",
              "2  a1a22d70485983eac12b5b88dad1cf95  1325376051  43.150704 -112.154481   \n",
              "\n",
              "   is_fraud  \n",
              "0         0  \n",
              "1         0  \n",
              "2         0  "
            ]
          },
          "execution_count": 4,
          "metadata": {},
          "output_type": "execute_result"
        }
      ],
      "source": [
        "# Read the data into a Pandas DataFrame\n",
        "df = pd.read_csv(\"fraudTrain.csv\", index_col=0)\n",
        "df.head(3)"
      ]
    },
    {
      "cell_type": "markdown",
      "metadata": {
        "id": "MrdajBCgZe53"
      },
      "source": [
        "Training data includes ~1.3 M records.\n",
        "\n",
        "Here is a brief description for each column:\n",
        "\n",
        "- **trans_date_trans_time**: Date and time of the transaction.\n",
        "- **cc_num**: Credit card number used for the transaction.\n",
        "- **merchant**: Name of the merchant where the transaction occurred.\n",
        "- **category**: Category of the transaction (e.g., groceries, entertainment).\n",
        "- **amt**: Amount of money involved in the transaction.\n",
        "- **first**: First name of the cardholder.\n",
        "- **last**: Last name of the cardholder.\n",
        "- **gender**: Gender of the cardholder.\n",
        "- **street**: Street address of the cardholder.\n",
        "- **city**: City of the cardholder's address.\n",
        "- **state**: State of the cardholder's address.\n",
        "- **zip**: ZIP code of the cardholder's address.\n",
        "- **lat**: Latitude of the merchant's location.\n",
        "- **long**: Longitude of the merchant's location.\n",
        "- **city_pop**: Population of the city where the transaction occurred.\n",
        "- **job**: Occupation of the cardholder.\n",
        "- **dob**: Date of birth of the cardholder.\n",
        "- **trans_num**: Unique transaction identifier.\n",
        "- **unix_time**: Unix timestamp of the transaction.\n",
        "- **merch_lat**: Latitude of the merchant's location.\n",
        "- **merch_long**: Longitude of the merchant's location.\n",
        "- **is_fraud**: Binary indicator of whether the transaction is fraudulent (1 for fraudulent, 0 for legitimate)."
      ]
    },
    {
      "cell_type": "code",
      "execution_count": 5,
      "metadata": {
        "colab": {
          "base_uri": "https://localhost:8080/"
        },
        "id": "qMh7VFX6GOaI",
        "outputId": "c78e7355-2d12-468f-c389-57383d215d99"
      },
      "outputs": [
        {
          "name": "stdout",
          "output_type": "stream",
          "text": [
            "<class 'pandas.core.frame.DataFrame'>\n",
            "Index: 1296675 entries, 0 to 1296674\n",
            "Data columns (total 22 columns):\n",
            " #   Column                 Non-Null Count    Dtype  \n",
            "---  ------                 --------------    -----  \n",
            " 0   trans_date_trans_time  1296675 non-null  object \n",
            " 1   cc_num                 1296675 non-null  int64  \n",
            " 2   merchant               1296675 non-null  object \n",
            " 3   category               1296675 non-null  object \n",
            " 4   amt                    1296675 non-null  float64\n",
            " 5   first                  1296675 non-null  object \n",
            " 6   last                   1296675 non-null  object \n",
            " 7   gender                 1296675 non-null  object \n",
            " 8   street                 1296675 non-null  object \n",
            " 9   city                   1296675 non-null  object \n",
            " 10  state                  1296675 non-null  object \n",
            " 11  zip                    1296675 non-null  int64  \n",
            " 12  lat                    1296675 non-null  float64\n",
            " 13  long                   1296675 non-null  float64\n",
            " 14  city_pop               1296675 non-null  int64  \n",
            " 15  job                    1296675 non-null  object \n",
            " 16  dob                    1296675 non-null  object \n",
            " 17  trans_num              1296675 non-null  object \n",
            " 18  unix_time              1296675 non-null  int64  \n",
            " 19  merch_lat              1296675 non-null  float64\n",
            " 20  merch_long             1296675 non-null  float64\n",
            " 21  is_fraud               1296675 non-null  int64  \n",
            "dtypes: float64(5), int64(5), object(12)\n",
            "memory usage: 227.5+ MB\n"
          ]
        }
      ],
      "source": [
        "# Explore the data\n",
        "df.info()"
      ]
    },
    {
      "cell_type": "markdown",
      "metadata": {
        "id": "AVWQUhw2Ze57"
      },
      "source": [
        "It appears that there are no missing values.\n",
        "\n",
        "Next, we'll examine the distribution of certain features."
      ]
    },
    {
      "cell_type": "markdown",
      "metadata": {
        "id": "85jbkU8UZe58"
      },
      "source": [
        "Table below indicates the proportion of fraudulent transactions (is_fraud = 1) compared to legitimate transactions (is_fraud = 0). Specifically, it shows that approximately 99.4% of the transactions are classified as legitimate, while only about 0.6% are classified as fraudulent."
      ]
    },
    {
      "cell_type": "code",
      "execution_count": 6,
      "metadata": {
        "colab": {
          "base_uri": "https://localhost:8080/",
          "height": 143
        },
        "id": "4GFtnHK9nwVd",
        "outputId": "693d9c90-9624-4f54-d05e-0bf41edb6cb6"
      },
      "outputs": [
        {
          "data": {
            "text/html": [
              "<style type=\"text/css\">\n",
              "</style>\n",
              "<table id=\"T_fdfd5\" class=\"dataframe\">\n",
              "  <thead>\n",
              "    <tr>\n",
              "      <th class=\"blank level0\" >&nbsp;</th>\n",
              "      <th id=\"T_fdfd5_level0_col0\" class=\"col_heading level0 col0\" >proportion</th>\n",
              "    </tr>\n",
              "    <tr>\n",
              "      <th class=\"index_name level0\" >is_fraud</th>\n",
              "      <th class=\"blank col0\" >&nbsp;</th>\n",
              "    </tr>\n",
              "  </thead>\n",
              "  <tbody>\n",
              "    <tr>\n",
              "      <th id=\"T_fdfd5_level0_row0\" class=\"row_heading level0 row0\" >0</th>\n",
              "      <td id=\"T_fdfd5_row0_col0\" class=\"data row0 col0\" >99.4%</td>\n",
              "    </tr>\n",
              "    <tr>\n",
              "      <th id=\"T_fdfd5_level0_row1\" class=\"row_heading level0 row1\" >1</th>\n",
              "      <td id=\"T_fdfd5_row1_col0\" class=\"data row1 col0\" >0.6%</td>\n",
              "    </tr>\n",
              "  </tbody>\n",
              "</table>\n"
            ],
            "text/plain": [
              "<pandas.io.formats.style.Styler at 0x7e7cb39c1060>"
            ]
          },
          "execution_count": 6,
          "metadata": {},
          "output_type": "execute_result"
        }
      ],
      "source": [
        "df['is_fraud'].value_counts(normalize=True).to_frame().style.format('{:.1%}')"
      ]
    },
    {
      "cell_type": "markdown",
      "metadata": {
        "id": "1FsxMSfzZe5-"
      },
      "source": [
        "Similarly, subsequent tables display the proportions of merchants, transaction categories, buyers' genders, and buyers' occupations within the dataset."
      ]
    },
    {
      "cell_type": "code",
      "execution_count": 7,
      "metadata": {
        "colab": {
          "base_uri": "https://localhost:8080/",
          "height": 394
        },
        "id": "FY91owM9Rsh1",
        "outputId": "a40cb268-47a1-42ca-a27d-63ab0ede6d6c"
      },
      "outputs": [
        {
          "data": {
            "text/html": [
              "<style type=\"text/css\">\n",
              "</style>\n",
              "<table id=\"T_a2521\" class=\"dataframe\">\n",
              "  <thead>\n",
              "    <tr>\n",
              "      <th class=\"blank level0\" >&nbsp;</th>\n",
              "      <th id=\"T_a2521_level0_col0\" class=\"col_heading level0 col0\" >proportion</th>\n",
              "    </tr>\n",
              "    <tr>\n",
              "      <th class=\"index_name level0\" >merchant</th>\n",
              "      <th class=\"blank col0\" >&nbsp;</th>\n",
              "    </tr>\n",
              "  </thead>\n",
              "  <tbody>\n",
              "    <tr>\n",
              "      <th id=\"T_a2521_level0_row0\" class=\"row_heading level0 row0\" >fraud_Kilback LLC</th>\n",
              "      <td id=\"T_a2521_row0_col0\" class=\"data row0 col0\" >0.3%</td>\n",
              "    </tr>\n",
              "    <tr>\n",
              "      <th id=\"T_a2521_level0_row1\" class=\"row_heading level0 row1\" >fraud_Cormier LLC</th>\n",
              "      <td id=\"T_a2521_row1_col0\" class=\"data row1 col0\" >0.3%</td>\n",
              "    </tr>\n",
              "    <tr>\n",
              "      <th id=\"T_a2521_level0_row2\" class=\"row_heading level0 row2\" >fraud_Schumm PLC</th>\n",
              "      <td id=\"T_a2521_row2_col0\" class=\"data row2 col0\" >0.3%</td>\n",
              "    </tr>\n",
              "    <tr>\n",
              "      <th id=\"T_a2521_level0_row3\" class=\"row_heading level0 row3\" >fraud_Kuhn LLC</th>\n",
              "      <td id=\"T_a2521_row3_col0\" class=\"data row3 col0\" >0.3%</td>\n",
              "    </tr>\n",
              "    <tr>\n",
              "      <th id=\"T_a2521_level0_row4\" class=\"row_heading level0 row4\" >fraud_Boyer PLC</th>\n",
              "      <td id=\"T_a2521_row4_col0\" class=\"data row4 col0\" >0.3%</td>\n",
              "    </tr>\n",
              "    <tr>\n",
              "      <th id=\"T_a2521_level0_row5\" class=\"row_heading level0 row5\" >fraud_Dickinson Ltd</th>\n",
              "      <td id=\"T_a2521_row5_col0\" class=\"data row5 col0\" >0.3%</td>\n",
              "    </tr>\n",
              "    <tr>\n",
              "      <th id=\"T_a2521_level0_row6\" class=\"row_heading level0 row6\" >fraud_Cummerata-Jones</th>\n",
              "      <td id=\"T_a2521_row6_col0\" class=\"data row6 col0\" >0.2%</td>\n",
              "    </tr>\n",
              "    <tr>\n",
              "      <th id=\"T_a2521_level0_row7\" class=\"row_heading level0 row7\" >fraud_Kutch LLC</th>\n",
              "      <td id=\"T_a2521_row7_col0\" class=\"data row7 col0\" >0.2%</td>\n",
              "    </tr>\n",
              "    <tr>\n",
              "      <th id=\"T_a2521_level0_row8\" class=\"row_heading level0 row8\" >fraud_Olson, Becker and Koch</th>\n",
              "      <td id=\"T_a2521_row8_col0\" class=\"data row8 col0\" >0.2%</td>\n",
              "    </tr>\n",
              "    <tr>\n",
              "      <th id=\"T_a2521_level0_row9\" class=\"row_heading level0 row9\" >fraud_Stroman, Hudson and Erdman</th>\n",
              "      <td id=\"T_a2521_row9_col0\" class=\"data row9 col0\" >0.2%</td>\n",
              "    </tr>\n",
              "  </tbody>\n",
              "</table>\n"
            ],
            "text/plain": [
              "<pandas.io.formats.style.Styler at 0x7e7ce227d330>"
            ]
          },
          "execution_count": 7,
          "metadata": {},
          "output_type": "execute_result"
        }
      ],
      "source": [
        "df['merchant'].value_counts(normalize=True).to_frame().head(10).style.format('{:.1%}')"
      ]
    },
    {
      "cell_type": "code",
      "execution_count": 8,
      "metadata": {
        "colab": {
          "base_uri": "https://localhost:8080/",
          "height": 394
        },
        "id": "zq6nO9k2TJ9t",
        "outputId": "dcb1ba93-f442-44c1-cc0e-8fbc31a2f356"
      },
      "outputs": [
        {
          "data": {
            "text/html": [
              "<style type=\"text/css\">\n",
              "</style>\n",
              "<table id=\"T_10d17\" class=\"dataframe\">\n",
              "  <thead>\n",
              "    <tr>\n",
              "      <th class=\"blank level0\" >&nbsp;</th>\n",
              "      <th id=\"T_10d17_level0_col0\" class=\"col_heading level0 col0\" >proportion</th>\n",
              "    </tr>\n",
              "    <tr>\n",
              "      <th class=\"index_name level0\" >category</th>\n",
              "      <th class=\"blank col0\" >&nbsp;</th>\n",
              "    </tr>\n",
              "  </thead>\n",
              "  <tbody>\n",
              "    <tr>\n",
              "      <th id=\"T_10d17_level0_row0\" class=\"row_heading level0 row0\" >gas_transport</th>\n",
              "      <td id=\"T_10d17_row0_col0\" class=\"data row0 col0\" >10.2%</td>\n",
              "    </tr>\n",
              "    <tr>\n",
              "      <th id=\"T_10d17_level0_row1\" class=\"row_heading level0 row1\" >grocery_pos</th>\n",
              "      <td id=\"T_10d17_row1_col0\" class=\"data row1 col0\" >9.5%</td>\n",
              "    </tr>\n",
              "    <tr>\n",
              "      <th id=\"T_10d17_level0_row2\" class=\"row_heading level0 row2\" >home</th>\n",
              "      <td id=\"T_10d17_row2_col0\" class=\"data row2 col0\" >9.5%</td>\n",
              "    </tr>\n",
              "    <tr>\n",
              "      <th id=\"T_10d17_level0_row3\" class=\"row_heading level0 row3\" >shopping_pos</th>\n",
              "      <td id=\"T_10d17_row3_col0\" class=\"data row3 col0\" >9.0%</td>\n",
              "    </tr>\n",
              "    <tr>\n",
              "      <th id=\"T_10d17_level0_row4\" class=\"row_heading level0 row4\" >kids_pets</th>\n",
              "      <td id=\"T_10d17_row4_col0\" class=\"data row4 col0\" >8.7%</td>\n",
              "    </tr>\n",
              "    <tr>\n",
              "      <th id=\"T_10d17_level0_row5\" class=\"row_heading level0 row5\" >shopping_net</th>\n",
              "      <td id=\"T_10d17_row5_col0\" class=\"data row5 col0\" >7.5%</td>\n",
              "    </tr>\n",
              "    <tr>\n",
              "      <th id=\"T_10d17_level0_row6\" class=\"row_heading level0 row6\" >entertainment</th>\n",
              "      <td id=\"T_10d17_row6_col0\" class=\"data row6 col0\" >7.3%</td>\n",
              "    </tr>\n",
              "    <tr>\n",
              "      <th id=\"T_10d17_level0_row7\" class=\"row_heading level0 row7\" >food_dining</th>\n",
              "      <td id=\"T_10d17_row7_col0\" class=\"data row7 col0\" >7.1%</td>\n",
              "    </tr>\n",
              "    <tr>\n",
              "      <th id=\"T_10d17_level0_row8\" class=\"row_heading level0 row8\" >personal_care</th>\n",
              "      <td id=\"T_10d17_row8_col0\" class=\"data row8 col0\" >7.0%</td>\n",
              "    </tr>\n",
              "    <tr>\n",
              "      <th id=\"T_10d17_level0_row9\" class=\"row_heading level0 row9\" >health_fitness</th>\n",
              "      <td id=\"T_10d17_row9_col0\" class=\"data row9 col0\" >6.6%</td>\n",
              "    </tr>\n",
              "  </tbody>\n",
              "</table>\n"
            ],
            "text/plain": [
              "<pandas.io.formats.style.Styler at 0x7e7cb3069b10>"
            ]
          },
          "execution_count": 8,
          "metadata": {},
          "output_type": "execute_result"
        }
      ],
      "source": [
        "df['category'].value_counts(normalize=True).to_frame().head(10).style.format('{:.1%}')"
      ]
    },
    {
      "cell_type": "code",
      "execution_count": 9,
      "metadata": {
        "colab": {
          "base_uri": "https://localhost:8080/",
          "height": 143
        },
        "id": "z6g_q7JkTxq2",
        "outputId": "60c3b83b-6fb8-448b-daa3-c9c1b8cb4bb9"
      },
      "outputs": [
        {
          "data": {
            "text/html": [
              "<style type=\"text/css\">\n",
              "</style>\n",
              "<table id=\"T_97fc2\" class=\"dataframe\">\n",
              "  <thead>\n",
              "    <tr>\n",
              "      <th class=\"blank level0\" >&nbsp;</th>\n",
              "      <th id=\"T_97fc2_level0_col0\" class=\"col_heading level0 col0\" >proportion</th>\n",
              "    </tr>\n",
              "    <tr>\n",
              "      <th class=\"index_name level0\" >gender</th>\n",
              "      <th class=\"blank col0\" >&nbsp;</th>\n",
              "    </tr>\n",
              "  </thead>\n",
              "  <tbody>\n",
              "    <tr>\n",
              "      <th id=\"T_97fc2_level0_row0\" class=\"row_heading level0 row0\" >F</th>\n",
              "      <td id=\"T_97fc2_row0_col0\" class=\"data row0 col0\" >54.7%</td>\n",
              "    </tr>\n",
              "    <tr>\n",
              "      <th id=\"T_97fc2_level0_row1\" class=\"row_heading level0 row1\" >M</th>\n",
              "      <td id=\"T_97fc2_row1_col0\" class=\"data row1 col0\" >45.3%</td>\n",
              "    </tr>\n",
              "  </tbody>\n",
              "</table>\n"
            ],
            "text/plain": [
              "<pandas.io.formats.style.Styler at 0x7e7cb306a4d0>"
            ]
          },
          "execution_count": 9,
          "metadata": {},
          "output_type": "execute_result"
        }
      ],
      "source": [
        "df['gender'].value_counts(normalize=True).to_frame().style.format('{:.1%}')"
      ]
    },
    {
      "cell_type": "code",
      "execution_count": 10,
      "metadata": {
        "colab": {
          "base_uri": "https://localhost:8080/",
          "height": 394
        },
        "id": "rLNdxkZGTzpc",
        "outputId": "924d090b-be01-47ad-9c15-9985ad582828"
      },
      "outputs": [
        {
          "data": {
            "text/html": [
              "<style type=\"text/css\">\n",
              "</style>\n",
              "<table id=\"T_12e30\" class=\"dataframe\">\n",
              "  <thead>\n",
              "    <tr>\n",
              "      <th class=\"blank level0\" >&nbsp;</th>\n",
              "      <th id=\"T_12e30_level0_col0\" class=\"col_heading level0 col0\" >proportion</th>\n",
              "    </tr>\n",
              "    <tr>\n",
              "      <th class=\"index_name level0\" >job</th>\n",
              "      <th class=\"blank col0\" >&nbsp;</th>\n",
              "    </tr>\n",
              "  </thead>\n",
              "  <tbody>\n",
              "    <tr>\n",
              "      <th id=\"T_12e30_level0_row0\" class=\"row_heading level0 row0\" >Film/video editor</th>\n",
              "      <td id=\"T_12e30_row0_col0\" class=\"data row0 col0\" >0.8%</td>\n",
              "    </tr>\n",
              "    <tr>\n",
              "      <th id=\"T_12e30_level0_row1\" class=\"row_heading level0 row1\" >Exhibition designer</th>\n",
              "      <td id=\"T_12e30_row1_col0\" class=\"data row1 col0\" >0.7%</td>\n",
              "    </tr>\n",
              "    <tr>\n",
              "      <th id=\"T_12e30_level0_row2\" class=\"row_heading level0 row2\" >Naval architect</th>\n",
              "      <td id=\"T_12e30_row2_col0\" class=\"data row2 col0\" >0.7%</td>\n",
              "    </tr>\n",
              "    <tr>\n",
              "      <th id=\"T_12e30_level0_row3\" class=\"row_heading level0 row3\" >Surveyor, land/geomatics</th>\n",
              "      <td id=\"T_12e30_row3_col0\" class=\"data row3 col0\" >0.7%</td>\n",
              "    </tr>\n",
              "    <tr>\n",
              "      <th id=\"T_12e30_level0_row4\" class=\"row_heading level0 row4\" >Materials engineer</th>\n",
              "      <td id=\"T_12e30_row4_col0\" class=\"data row4 col0\" >0.6%</td>\n",
              "    </tr>\n",
              "    <tr>\n",
              "      <th id=\"T_12e30_level0_row5\" class=\"row_heading level0 row5\" >Designer, ceramics/pottery</th>\n",
              "      <td id=\"T_12e30_row5_col0\" class=\"data row5 col0\" >0.6%</td>\n",
              "    </tr>\n",
              "    <tr>\n",
              "      <th id=\"T_12e30_level0_row6\" class=\"row_heading level0 row6\" >Systems developer</th>\n",
              "      <td id=\"T_12e30_row6_col0\" class=\"data row6 col0\" >0.6%</td>\n",
              "    </tr>\n",
              "    <tr>\n",
              "      <th id=\"T_12e30_level0_row7\" class=\"row_heading level0 row7\" >IT trainer</th>\n",
              "      <td id=\"T_12e30_row7_col0\" class=\"data row7 col0\" >0.6%</td>\n",
              "    </tr>\n",
              "    <tr>\n",
              "      <th id=\"T_12e30_level0_row8\" class=\"row_heading level0 row8\" >Financial adviser</th>\n",
              "      <td id=\"T_12e30_row8_col0\" class=\"data row8 col0\" >0.6%</td>\n",
              "    </tr>\n",
              "    <tr>\n",
              "      <th id=\"T_12e30_level0_row9\" class=\"row_heading level0 row9\" >Environmental consultant</th>\n",
              "      <td id=\"T_12e30_row9_col0\" class=\"data row9 col0\" >0.6%</td>\n",
              "    </tr>\n",
              "  </tbody>\n",
              "</table>\n"
            ],
            "text/plain": [
              "<pandas.io.formats.style.Styler at 0x7e7cb306a860>"
            ]
          },
          "execution_count": 10,
          "metadata": {},
          "output_type": "execute_result"
        }
      ],
      "source": [
        "df['job'].value_counts(normalize=True).to_frame().head(10).style.format('{:.1%}')"
      ]
    },
    {
      "cell_type": "markdown",
      "metadata": {
        "id": "hZQPp9m6Ze6C"
      },
      "source": [
        "### Preprocessing\n",
        "\n",
        "This preprocessing step involves processing the dataset to prepare it for further analysis. The function `process_dataset` performs several transformations on the input DataFrame to create a processed DataFrame with selected columns:\n",
        "\n",
        "\n",
        "- **Copying DataFrame**: The function creates a copy of the input DataFrame to avoid modifying the original data.\n",
        "- **Age Calculation**: It calculates the age of individuals involved in transactions by subtracting their date of birth from the transaction date and bins the ages into groups of 10 years.\n",
        "- **Hour Extraction**: It extracts the hour component from the transaction timestamp to identify the hour of the transaction.\n",
        "- **Distance Calculation**: It computes the distance between the transaction location and the merchant location using latitude and longitude coordinates.\n",
        "- **Log Transformation**: It applies a natural logarithm transformation to the transaction amount and the city population to normalize their distributions. (we apply log, as the original distribution for these parameters are highly skewed)\n",
        "- **Column Selection**: It selects a subset of columns including 'category', 'log_amt', 'gender', 'log_city_pop', 'age_bin', 'hour_of_transaction', 'distance', and 'is_fraud' for further analysis.\n",
        "\n"
      ]
    },
    {
      "cell_type": "code",
      "execution_count": 11,
      "metadata": {
        "colab": {
          "base_uri": "https://localhost:8080/",
          "height": 143
        },
        "id": "BvjxnSDZqnTb",
        "outputId": "0b9d7349-c94b-4f39-8f8d-03272731b3c8"
      },
      "outputs": [
        {
          "data": {
            "application/vnd.google.colaboratory.intrinsic+json": {
              "type": "dataframe",
              "variable_name": "df_processed"
            },
            "text/html": [
              "\n",
              "  <div id=\"df-a5f4d3ee-8a6a-4974-a860-e3f153d2c501\" class=\"colab-df-container\">\n",
              "    <div>\n",
              "<style scoped>\n",
              "    .dataframe tbody tr th:only-of-type {\n",
              "        vertical-align: middle;\n",
              "    }\n",
              "\n",
              "    .dataframe tbody tr th {\n",
              "        vertical-align: top;\n",
              "    }\n",
              "\n",
              "    .dataframe thead th {\n",
              "        text-align: right;\n",
              "    }\n",
              "</style>\n",
              "<table border=\"1\" class=\"dataframe\">\n",
              "  <thead>\n",
              "    <tr style=\"text-align: right;\">\n",
              "      <th></th>\n",
              "      <th>category</th>\n",
              "      <th>log_amt</th>\n",
              "      <th>gender</th>\n",
              "      <th>log_city_pop</th>\n",
              "      <th>age_bin</th>\n",
              "      <th>hour_of_transaction</th>\n",
              "      <th>distance</th>\n",
              "      <th>is_fraud</th>\n",
              "    </tr>\n",
              "  </thead>\n",
              "  <tbody>\n",
              "    <tr>\n",
              "      <th>0</th>\n",
              "      <td>misc_net</td>\n",
              "      <td>1.786747</td>\n",
              "      <td>F</td>\n",
              "      <td>8.159375</td>\n",
              "      <td>3</td>\n",
              "      <td>0</td>\n",
              "      <td>0.872830</td>\n",
              "      <td>0</td>\n",
              "    </tr>\n",
              "    <tr>\n",
              "      <th>1</th>\n",
              "      <td>grocery_pos</td>\n",
              "      <td>4.684259</td>\n",
              "      <td>F</td>\n",
              "      <td>5.010635</td>\n",
              "      <td>4</td>\n",
              "      <td>0</td>\n",
              "      <td>0.272310</td>\n",
              "      <td>0</td>\n",
              "    </tr>\n",
              "    <tr>\n",
              "      <th>2</th>\n",
              "      <td>entertainment</td>\n",
              "      <td>5.398660</td>\n",
              "      <td>M</td>\n",
              "      <td>8.332068</td>\n",
              "      <td>5</td>\n",
              "      <td>0</td>\n",
              "      <td>0.975845</td>\n",
              "      <td>0</td>\n",
              "    </tr>\n",
              "  </tbody>\n",
              "</table>\n",
              "</div>\n",
              "    <div class=\"colab-df-buttons\">\n",
              "\n",
              "  <div class=\"colab-df-container\">\n",
              "    <button class=\"colab-df-convert\" onclick=\"convertToInteractive('df-a5f4d3ee-8a6a-4974-a860-e3f153d2c501')\"\n",
              "            title=\"Convert this dataframe to an interactive table.\"\n",
              "            style=\"display:none;\">\n",
              "\n",
              "  <svg xmlns=\"http://www.w3.org/2000/svg\" height=\"24px\" viewBox=\"0 -960 960 960\">\n",
              "    <path d=\"M120-120v-720h720v720H120Zm60-500h600v-160H180v160Zm220 220h160v-160H400v160Zm0 220h160v-160H400v160ZM180-400h160v-160H180v160Zm440 0h160v-160H620v160ZM180-180h160v-160H180v160Zm440 0h160v-160H620v160Z\"/>\n",
              "  </svg>\n",
              "    </button>\n",
              "\n",
              "  <style>\n",
              "    .colab-df-container {\n",
              "      display:flex;\n",
              "      gap: 12px;\n",
              "    }\n",
              "\n",
              "    .colab-df-convert {\n",
              "      background-color: #E8F0FE;\n",
              "      border: none;\n",
              "      border-radius: 50%;\n",
              "      cursor: pointer;\n",
              "      display: none;\n",
              "      fill: #1967D2;\n",
              "      height: 32px;\n",
              "      padding: 0 0 0 0;\n",
              "      width: 32px;\n",
              "    }\n",
              "\n",
              "    .colab-df-convert:hover {\n",
              "      background-color: #E2EBFA;\n",
              "      box-shadow: 0px 1px 2px rgba(60, 64, 67, 0.3), 0px 1px 3px 1px rgba(60, 64, 67, 0.15);\n",
              "      fill: #174EA6;\n",
              "    }\n",
              "\n",
              "    .colab-df-buttons div {\n",
              "      margin-bottom: 4px;\n",
              "    }\n",
              "\n",
              "    [theme=dark] .colab-df-convert {\n",
              "      background-color: #3B4455;\n",
              "      fill: #D2E3FC;\n",
              "    }\n",
              "\n",
              "    [theme=dark] .colab-df-convert:hover {\n",
              "      background-color: #434B5C;\n",
              "      box-shadow: 0px 1px 3px 1px rgba(0, 0, 0, 0.15);\n",
              "      filter: drop-shadow(0px 1px 2px rgba(0, 0, 0, 0.3));\n",
              "      fill: #FFFFFF;\n",
              "    }\n",
              "  </style>\n",
              "\n",
              "    <script>\n",
              "      const buttonEl =\n",
              "        document.querySelector('#df-a5f4d3ee-8a6a-4974-a860-e3f153d2c501 button.colab-df-convert');\n",
              "      buttonEl.style.display =\n",
              "        google.colab.kernel.accessAllowed ? 'block' : 'none';\n",
              "\n",
              "      async function convertToInteractive(key) {\n",
              "        const element = document.querySelector('#df-a5f4d3ee-8a6a-4974-a860-e3f153d2c501');\n",
              "        const dataTable =\n",
              "          await google.colab.kernel.invokeFunction('convertToInteractive',\n",
              "                                                    [key], {});\n",
              "        if (!dataTable) return;\n",
              "\n",
              "        const docLinkHtml = 'Like what you see? Visit the ' +\n",
              "          '<a target=\"_blank\" href=https://colab.research.google.com/notebooks/data_table.ipynb>data table notebook</a>'\n",
              "          + ' to learn more about interactive tables.';\n",
              "        element.innerHTML = '';\n",
              "        dataTable['output_type'] = 'display_data';\n",
              "        await google.colab.output.renderOutput(dataTable, element);\n",
              "        const docLink = document.createElement('div');\n",
              "        docLink.innerHTML = docLinkHtml;\n",
              "        element.appendChild(docLink);\n",
              "      }\n",
              "    </script>\n",
              "  </div>\n",
              "\n",
              "\n",
              "<div id=\"df-97881094-92d4-4e2e-a3f8-c11cf9d18aa0\">\n",
              "  <button class=\"colab-df-quickchart\" onclick=\"quickchart('df-97881094-92d4-4e2e-a3f8-c11cf9d18aa0')\"\n",
              "            title=\"Suggest charts\"\n",
              "            style=\"display:none;\">\n",
              "\n",
              "<svg xmlns=\"http://www.w3.org/2000/svg\" height=\"24px\"viewBox=\"0 0 24 24\"\n",
              "     width=\"24px\">\n",
              "    <g>\n",
              "        <path d=\"M19 3H5c-1.1 0-2 .9-2 2v14c0 1.1.9 2 2 2h14c1.1 0 2-.9 2-2V5c0-1.1-.9-2-2-2zM9 17H7v-7h2v7zm4 0h-2V7h2v10zm4 0h-2v-4h2v4z\"/>\n",
              "    </g>\n",
              "</svg>\n",
              "  </button>\n",
              "\n",
              "<style>\n",
              "  .colab-df-quickchart {\n",
              "      --bg-color: #E8F0FE;\n",
              "      --fill-color: #1967D2;\n",
              "      --hover-bg-color: #E2EBFA;\n",
              "      --hover-fill-color: #174EA6;\n",
              "      --disabled-fill-color: #AAA;\n",
              "      --disabled-bg-color: #DDD;\n",
              "  }\n",
              "\n",
              "  [theme=dark] .colab-df-quickchart {\n",
              "      --bg-color: #3B4455;\n",
              "      --fill-color: #D2E3FC;\n",
              "      --hover-bg-color: #434B5C;\n",
              "      --hover-fill-color: #FFFFFF;\n",
              "      --disabled-bg-color: #3B4455;\n",
              "      --disabled-fill-color: #666;\n",
              "  }\n",
              "\n",
              "  .colab-df-quickchart {\n",
              "    background-color: var(--bg-color);\n",
              "    border: none;\n",
              "    border-radius: 50%;\n",
              "    cursor: pointer;\n",
              "    display: none;\n",
              "    fill: var(--fill-color);\n",
              "    height: 32px;\n",
              "    padding: 0;\n",
              "    width: 32px;\n",
              "  }\n",
              "\n",
              "  .colab-df-quickchart:hover {\n",
              "    background-color: var(--hover-bg-color);\n",
              "    box-shadow: 0 1px 2px rgba(60, 64, 67, 0.3), 0 1px 3px 1px rgba(60, 64, 67, 0.15);\n",
              "    fill: var(--button-hover-fill-color);\n",
              "  }\n",
              "\n",
              "  .colab-df-quickchart-complete:disabled,\n",
              "  .colab-df-quickchart-complete:disabled:hover {\n",
              "    background-color: var(--disabled-bg-color);\n",
              "    fill: var(--disabled-fill-color);\n",
              "    box-shadow: none;\n",
              "  }\n",
              "\n",
              "  .colab-df-spinner {\n",
              "    border: 2px solid var(--fill-color);\n",
              "    border-color: transparent;\n",
              "    border-bottom-color: var(--fill-color);\n",
              "    animation:\n",
              "      spin 1s steps(1) infinite;\n",
              "  }\n",
              "\n",
              "  @keyframes spin {\n",
              "    0% {\n",
              "      border-color: transparent;\n",
              "      border-bottom-color: var(--fill-color);\n",
              "      border-left-color: var(--fill-color);\n",
              "    }\n",
              "    20% {\n",
              "      border-color: transparent;\n",
              "      border-left-color: var(--fill-color);\n",
              "      border-top-color: var(--fill-color);\n",
              "    }\n",
              "    30% {\n",
              "      border-color: transparent;\n",
              "      border-left-color: var(--fill-color);\n",
              "      border-top-color: var(--fill-color);\n",
              "      border-right-color: var(--fill-color);\n",
              "    }\n",
              "    40% {\n",
              "      border-color: transparent;\n",
              "      border-right-color: var(--fill-color);\n",
              "      border-top-color: var(--fill-color);\n",
              "    }\n",
              "    60% {\n",
              "      border-color: transparent;\n",
              "      border-right-color: var(--fill-color);\n",
              "    }\n",
              "    80% {\n",
              "      border-color: transparent;\n",
              "      border-right-color: var(--fill-color);\n",
              "      border-bottom-color: var(--fill-color);\n",
              "    }\n",
              "    90% {\n",
              "      border-color: transparent;\n",
              "      border-bottom-color: var(--fill-color);\n",
              "    }\n",
              "  }\n",
              "</style>\n",
              "\n",
              "  <script>\n",
              "    async function quickchart(key) {\n",
              "      const quickchartButtonEl =\n",
              "        document.querySelector('#' + key + ' button');\n",
              "      quickchartButtonEl.disabled = true;  // To prevent multiple clicks.\n",
              "      quickchartButtonEl.classList.add('colab-df-spinner');\n",
              "      try {\n",
              "        const charts = await google.colab.kernel.invokeFunction(\n",
              "            'suggestCharts', [key], {});\n",
              "      } catch (error) {\n",
              "        console.error('Error during call to suggestCharts:', error);\n",
              "      }\n",
              "      quickchartButtonEl.classList.remove('colab-df-spinner');\n",
              "      quickchartButtonEl.classList.add('colab-df-quickchart-complete');\n",
              "    }\n",
              "    (() => {\n",
              "      let quickchartButtonEl =\n",
              "        document.querySelector('#df-97881094-92d4-4e2e-a3f8-c11cf9d18aa0 button');\n",
              "      quickchartButtonEl.style.display =\n",
              "        google.colab.kernel.accessAllowed ? 'block' : 'none';\n",
              "    })();\n",
              "  </script>\n",
              "</div>\n",
              "\n",
              "    </div>\n",
              "  </div>\n"
            ],
            "text/plain": [
              "        category   log_amt gender  log_city_pop  age_bin  hour_of_transaction  \\\n",
              "0       misc_net  1.786747      F      8.159375        3                    0   \n",
              "1    grocery_pos  4.684259      F      5.010635        4                    0   \n",
              "2  entertainment  5.398660      M      8.332068        5                    0   \n",
              "\n",
              "   distance  is_fraud  \n",
              "0  0.872830         0  \n",
              "1  0.272310         0  \n",
              "2  0.975845         0  "
            ]
          },
          "execution_count": 11,
          "metadata": {},
          "output_type": "execute_result"
        }
      ],
      "source": [
        "from pandas.core.frame import DataFrame\n",
        "\n",
        "def process_dataset(df: DataFrame) -> DataFrame:\n",
        "    \"\"\"\n",
        "    Process the input DataFrame by performing several data transformations.\n",
        "\n",
        "    Parameters:\n",
        "    - df (DataFrame): Input DataFrame containing transaction data.\n",
        "\n",
        "    Returns:\n",
        "    - DataFrame: Processed DataFrame with selected columns for further analysis.\n",
        "    \"\"\"\n",
        "    df_processed = df.copy()\n",
        "\n",
        "    # Calculate age and bin it into groups of 10 years\n",
        "    df_processed['age'] = (pd.to_datetime(df_processed['trans_date_trans_time']).dt.year -\n",
        "                           pd.to_datetime(df_processed['dob']).dt.year)\n",
        "    df_processed['age_bin'] = df_processed['age'] // 10\n",
        "\n",
        "    # Extract hour of transaction\n",
        "    df_processed['hour_of_transaction'] = pd.to_datetime(df_processed['trans_date_trans_time']).dt.hour\n",
        "\n",
        "    # Compute distance between transaction and merchant locations\n",
        "    df_processed['distance'] = np.sqrt(((df_processed['lat'] - df_processed['merch_lat']) ** 2) +\n",
        "                                       ((df_processed['long'] - df_processed['merch_long']) ** 2))\n",
        "\n",
        "    # Apply natural logarithm transformation to amount and city population\n",
        "    df_processed['log_amt'] = np.log1p(df_processed['amt'])\n",
        "    df_processed['log_city_pop'] = np.log1p(df_processed['city_pop'])\n",
        "\n",
        "    # Select relevant columns\n",
        "    selected_columns = ['category', 'log_amt', 'gender', 'log_city_pop', 'age_bin',\n",
        "                        'hour_of_transaction', 'distance', 'is_fraud']\n",
        "\n",
        "    return df_processed[selected_columns]\n",
        "\n",
        "\n",
        "df_processed = process_dataset(df)\n",
        "df_processed.head(3)"
      ]
    },
    {
      "cell_type": "markdown",
      "metadata": {
        "id": "TyV0sla2Ze6E"
      },
      "source": [
        "Let's examine the distribution of the features we've just created."
      ]
    },
    {
      "cell_type": "code",
      "execution_count": 12,
      "metadata": {
        "colab": {
          "base_uri": "https://localhost:8080/",
          "height": 461
        },
        "id": "8s6oJ2rzT9Ks",
        "outputId": "9cedf083-5628-4d7b-d70c-d33b68121b99"
      },
      "outputs": [
        {
          "data": {
            "text/plain": [
              "<Axes: xlabel='age_bin'>"
            ]
          },
          "execution_count": 12,
          "metadata": {},
          "output_type": "execute_result"
        },
        {
          "data": {
            "image/png": "[encoded data removed]",
            "text/plain": [
              "<Figure size 640x480 with 1 Axes>"
            ]
          },
          "metadata": {},
          "output_type": "display_data"
        }
      ],
      "source": [
        "df_processed['age_bin'].value_counts(normalize=True).sort_index().to_frame().plot(kind='bar')"
      ]
    },
    {
      "cell_type": "code",
      "execution_count": 13,
      "metadata": {
        "colab": {
          "base_uri": "https://localhost:8080/",
          "height": 470
        },
        "id": "iZWIhc2Xc35c",
        "outputId": "030b0cd4-3174-40e1-dff0-4746d2f7c210"
      },
      "outputs": [
        {
          "data": {
            "text/plain": [
              "<Axes: xlabel='hour_of_transaction'>"
            ]
          },
          "execution_count": 13,
          "metadata": {},
          "output_type": "execute_result"
        },
        {
          "data": {
            "image/png": "[encoded data removed]",
            "text/plain": [
              "<Figure size 640x480 with 1 Axes>"
            ]
          },
          "metadata": {},
          "output_type": "display_data"
        }
      ],
      "source": [
        "df_processed['hour_of_transaction'].value_counts(normalize=True).sort_index().to_frame().plot(kind='bar')"
      ]
    },
    {
      "cell_type": "code",
      "execution_count": 14,
      "metadata": {
        "colab": {
          "base_uri": "https://localhost:8080/",
          "height": 472
        },
        "id": "rEWECu-_f_fr",
        "outputId": "9239fb17-78e2-4935-f621-e0b37d5af7db"
      },
      "outputs": [
        {
          "data": {
            "image/png": "[encoded data removed]",
            "text/plain": [
              "<Figure size 640x480 with 1 Axes>"
            ]
          },
          "metadata": {},
          "output_type": "display_data"
        }
      ],
      "source": [
        "plt.hist(df_processed['distance'], bins=100)\n",
        "plt.xlabel('distance')\n",
        "plt.ylabel('Frequency')\n",
        "plt.title('Distribution of distance')\n",
        "plt.show()"
      ]
    },
    {
      "cell_type": "code",
      "execution_count": 15,
      "metadata": {
        "colab": {
          "base_uri": "https://localhost:8080/",
          "height": 472
        },
        "id": "bteSEH51gfUM",
        "outputId": "85f75bfc-1689-4120-d772-1450b2344451"
      },
      "outputs": [
        {
          "data": {
            "image/png": "[encoded data removed]",
            "text/plain": [
              "<Figure size 640x480 with 1 Axes>"
            ]
          },
          "metadata": {},
          "output_type": "display_data"
        }
      ],
      "source": [
        "plt.hist(df_processed['log_amt'], bins=100)\n",
        "plt.xlabel('log_amt')\n",
        "plt.ylabel('Frequency')\n",
        "plt.title('Distribution of amount')\n",
        "plt.show()\n"
      ]
    },
    {
      "cell_type": "code",
      "execution_count": 16,
      "metadata": {
        "colab": {
          "base_uri": "https://localhost:8080/",
          "height": 472
        },
        "id": "-WF2oWYqmlbF",
        "outputId": "4fe1f051-666b-4c29-f3f0-423dc72cbb04"
      },
      "outputs": [
        {
          "data": {
            "image/png": "[encoded data removed]",
            "text/plain": [
              "<Figure size 640x480 with 1 Axes>"
            ]
          },
          "metadata": {},
          "output_type": "display_data"
        }
      ],
      "source": [
        "plt.hist(df_processed['log_city_pop'], bins=100)\n",
        "plt.xlabel('log_city_pop')\n",
        "plt.ylabel('Frequency')\n",
        "plt.title('Distribution of city population)')\n",
        "plt.show()"
      ]
    },
    {
      "cell_type": "markdown",
      "metadata": {
        "id": "7kHUNsg7Ze6J"
      },
      "source": [
        "Our objective is to predict the 'is_fraud' column. Therefore, we will store our features in X_train and our target in y_train."
      ]
    },
    {
      "cell_type": "code",
      "execution_count": 17,
      "metadata": {
        "id": "eptca5Ttb1re"
      },
      "outputs": [],
      "source": [
        "# Create train and test data\n",
        "feature_cols = df_processed.columns[:-1]\n",
        "target_col = df_processed.columns[-1]\n",
        "X_train = df_processed.drop(target_col, axis=1)\n",
        "y_train = df_processed[target_col]"
      ]
    },
    {
      "cell_type": "markdown",
      "metadata": {
        "id": "nRYFvYQuZe6K"
      },
      "source": [
        "In this code snippet, numeric and categorical columns are extracted from the training feature dataset. This is essential for constructing a processing pipeline."
      ]
    },
    {
      "cell_type": "code",
      "execution_count": 18,
      "metadata": {
        "colab": {
          "base_uri": "https://localhost:8080/"
        },
        "id": "gqoAuS3UfAAZ",
        "outputId": "9ac53e51-9150-4171-b353-5d45e8498ac2"
      },
      "outputs": [
        {
          "name": "stdout",
          "output_type": "stream",
          "text": [
            "numeric feature columns: ['log_amt', 'log_city_pop', 'age_bin', 'hour_of_transaction', 'distance']\n",
            "categorical feature columns: ['category', 'gender']\n",
            "target column: is_fraud\n"
          ]
        }
      ],
      "source": [
        "# select numeric cols and categorical columns\n",
        "num_cols = X_train.select_dtypes(include=['number']).columns.tolist()\n",
        "cat_cols = X_train.select_dtypes(include=['object']).columns.tolist()\n",
        "\n",
        "print(f'numeric feature columns: {num_cols}')\n",
        "print(f'categorical feature columns: {cat_cols}')\n",
        "print(f'target column: {target_col}')"
      ]
    },
    {
      "cell_type": "markdown",
      "metadata": {
        "id": "XXV7xCmaZe6M"
      },
      "source": [
        "Examining the correlation matrix allows us to grasp the associations between various variables in the dataset. The table below indicates a correlation between fraudulent activities and the (log) amount of transactions."
      ]
    },
    {
      "cell_type": "code",
      "execution_count": 19,
      "metadata": {
        "colab": {
          "base_uri": "https://localhost:8080/"
        },
        "id": "5tUtC4Mljxzx",
        "outputId": "27353f3d-58be-4de6-c77e-87f58b466486"
      },
      "outputs": [
        {
          "data": {
            "text/plain": [
              "is_fraud               1.000000\n",
              "log_amt                0.120439\n",
              "hour_of_transaction    0.013799\n",
              "age_bin                0.012161\n",
              "log_city_pop           0.001582\n",
              "distance               0.000434\n",
              "Name: is_fraud, dtype: float64"
            ]
          },
          "execution_count": 19,
          "metadata": {},
          "output_type": "execute_result"
        }
      ],
      "source": [
        "corr_matrix = df_processed.corr(numeric_only=True)\n",
        "corr_matrix[target_col].sort_values(ascending=False)"
      ]
    },
    {
      "cell_type": "markdown",
      "metadata": {
        "id": "rvyMjHtHZe6N"
      },
      "source": [
        "### Preprocessing pipeline\n",
        "In this code snippet, a column transformer and a pipeline are defined for preprocessing the data.\n",
        "\n",
        "The column transformer applies different transformations to numerical and categorical columns separately, while the pipeline combines these transformations into a single process."
      ]
    },
    {
      "cell_type": "code",
      "execution_count": 20,
      "metadata": {
        "id": "2EYcpcH4Z7OH"
      },
      "outputs": [],
      "source": [
        "from sklearn.compose import ColumnTransformer\n",
        "from sklearn.pipeline import Pipeline\n",
        "from sklearn.preprocessing import StandardScaler, OneHotEncoder\n",
        "\n",
        "# Define the column transformer\n",
        "ct = ColumnTransformer([\n",
        "    ('numerical', StandardScaler(), num_cols),\n",
        "    ('categorical', OneHotEncoder(), cat_cols)\n",
        "])\n",
        "\n",
        "# Create the pipeline\n",
        "pipeline = Pipeline([\n",
        "    ('prepare_data', ct),\n",
        "])\n",
        "\n",
        "# Fit the pipeline to the data\n",
        "pipeline.fit(X_train)\n",
        "\n",
        "# Transform the data\n",
        "X_train_transformed = pipeline.transform(X_train)"
      ]
    },
    {
      "cell_type": "markdown",
      "metadata": {
        "id": "K7ZwLojJZe6P"
      },
      "source": [
        "In order to evaluate our models, we will load and preprocess the test data using the `process_dataset` function and the pipeline that we have just created."
      ]
    },
    {
      "cell_type": "code",
      "execution_count": 21,
      "metadata": {
        "id": "i2q-nCbu8frV"
      },
      "outputs": [],
      "source": [
        "# Read the test data\n",
        "df_test = pd.read_csv(\"fraudTest.csv\", index_col=0)\n",
        "\n",
        "# Process the test data\n",
        "df_test_processed = process_dataset(df_test)\n",
        "\n",
        "# Transform the test data\n",
        "X_test = df_test_processed[feature_cols]\n",
        "y_test = df_test_processed[target_col]\n",
        "\n",
        "X_test_transformed = pipeline.transform(X_test)"
      ]
    },
    {
      "cell_type": "markdown",
      "metadata": {
        "id": "jD9BVqmCZe6Q"
      },
      "source": [
        "## Training the model"
      ]
    },
    {
      "cell_type": "markdown",
      "metadata": {
        "id": "3Yal-RgNZe6R"
      },
      "source": [
        "### Dummy Classifier\n",
        "\n",
        "The Dummy Classifier is a simple baseline model used for classification tasks. It serves as a reference point for comparing the performance of more sophisticated models. The Dummy Classifier predicts classes using simple rules, such as predicting the most frequent class in the training data.\n",
        "\n",
        "We'll store the performance scores for each model in performance_metrics for comparison."
      ]
    },
    {
      "cell_type": "code",
      "execution_count": 22,
      "metadata": {
        "colab": {
          "base_uri": "https://localhost:8080/"
        },
        "id": "SNH4O3Yzn9wy",
        "outputId": "4be07aa4-82eb-4967-c47a-33fffa2f9dd6"
      },
      "outputs": [
        {
          "name": "stderr",
          "output_type": "stream",
          "text": [
            "/usr/local/lib/python3.10/dist-packages/sklearn/metrics/_classification.py:1344: UndefinedMetricWarning: Precision is ill-defined and being set to 0.0 due to no predicted samples. Use `zero_division` parameter to control this behavior.\n",
            "  _warn_prf(average, modifier, msg_start, len(result))\n"
          ]
        },
        {
          "name": "stdout",
          "output_type": "stream",
          "text": [
            "Dummy Accuracy: 0.99\n",
            "Dummy Precision: 0.00\n",
            "Dummy Recall: 0.00\n",
            "Dummy F1 Score: 0.00\n"
          ]
        }
      ],
      "source": [
        "from sklearn.dummy import DummyClassifier\n",
        "from sklearn.metrics import accuracy_score, precision_score, recall_score, f1_score\n",
        "\n",
        "# Create a dummy classifier\n",
        "dummy_clf = DummyClassifier(strategy=\"most_frequent\")\n",
        "\n",
        "# Fit the dummy classifier to the data\n",
        "dummy_clf.fit(X_train, y_train)\n",
        "\n",
        "# Predict using the dummy classifier\n",
        "dummy_predictions = dummy_clf.predict(X_train)\n",
        "\n",
        "# Calculate the performance metrics\n",
        "accuracy = accuracy_score(y_train, dummy_predictions)\n",
        "precision = precision_score(y_train, dummy_predictions)\n",
        "recall = recall_score(y_train, dummy_predictions)\n",
        "f1 = f1_score(y_train, dummy_predictions)\n",
        "\n",
        "# Print the performance metrics\n",
        "print(f\"Dummy Accuracy: {accuracy:.2f}\")\n",
        "print(f\"Dummy Precision: {precision:.2f}\")\n",
        "print(f\"Dummy Recall: {recall:.2f}\")\n",
        "print(f\"Dummy F1 Score: {f1:.2f}\")\n",
        "\n",
        "performance_metrics = dict()\n",
        "performance_metrics['Dummy'] = {'accuracy':accuracy, 'precision': precision, 'recall':recall, 'f1':f1}"
      ]
    },
    {
      "cell_type": "markdown",
      "metadata": {
        "id": "bcUvaX7sZe6k"
      },
      "source": [
        "As you can see, even a Dummy classifier may achieve high accuracy on imbalanced data due to the skewed class distribution.\n",
        "\n",
        "So, for imbalanced classification tasks like fraud detection, it is essential to use evaluation metrics that consider other performance metrics, such as precision, recall, F1-score, or area under the ROC curve (AUC-ROC). These metrics provide a more comprehensive assessment of the classifier's performance, especially in the context of imbalanced datasets."
      ]
    },
    {
      "cell_type": "markdown",
      "metadata": {
        "id": "iAtm6aKBZe6l"
      },
      "source": [
        "### Logistic Regression\n",
        "Next, we'll train a simple logistic regression model to assess its performance."
      ]
    },
    {
      "cell_type": "code",
      "execution_count": 23,
      "metadata": {
        "colab": {
          "base_uri": "https://localhost:8080/"
        },
        "id": "kPaulhc18J6N",
        "outputId": "612670ee-44c9-4659-f30e-f9285103c9da"
      },
      "outputs": [
        {
          "name": "stdout",
          "output_type": "stream",
          "text": [
            "Logistic Regression Accuracy: 0.75\n",
            "Logistic Regression Precision: 0.01\n",
            "Logistic Regression Recall: 0.73\n",
            "Logistic Regression F1 Score: 0.02\n"
          ]
        }
      ],
      "source": [
        "from sklearn.linear_model import LogisticRegression\n",
        "\n",
        "# Define the Logistic Regression classifier\n",
        "lr = LogisticRegression(random_state=8, class_weight='balanced')\n",
        "\n",
        "# Fit the Logistic Regression classifier to the data\n",
        "lr.fit(X_train_transformed, y_train)\n",
        "\n",
        "# Make predictions using the Logistic Regression classifier\n",
        "y_pred_lr = lr.predict(X_test_transformed)\n",
        "\n",
        "# Calculate the performance metrics\n",
        "accuracy_lr = accuracy_score(y_test, y_pred_lr)\n",
        "precision_lr = precision_score(y_test, y_pred_lr)\n",
        "recall_lr = recall_score(y_test, y_pred_lr)\n",
        "f1_lr = f1_score(y_test, y_pred_lr)\n",
        "\n",
        "# Print the performance metrics\n",
        "print(f\"Logistic Regression Accuracy: {accuracy_lr:.2f}\")\n",
        "print(f\"Logistic Regression Precision: {precision_lr:.2f}\")\n",
        "print(f\"Logistic Regression Recall: {recall_lr:.2f}\")\n",
        "print(f\"Logistic Regression F1 Score: {f1_lr:.2f}\")\n",
        "\n",
        "performance_metrics['LogisticRegression'] = {'accuracy':accuracy_lr, 'precision': precision_lr, 'recall':recall_lr, 'f1':f1_lr}\n"
      ]
    },
    {
      "cell_type": "markdown",
      "metadata": {
        "id": "H8AwHXthZe6n"
      },
      "source": [
        "Logistic regression shows a considerable improvement in recall (compared to the Dummy classifier), yet it still has a very low precision and F1 score. This indicates its capability to detect fraudulent activities, but it also tends to produce a considerable number of false positives."
      ]
    },
    {
      "cell_type": "markdown",
      "metadata": {
        "id": "yT3aSU6fZe6o"
      },
      "source": [
        "### Random Forest\n",
        "\n",
        "Next, we'll experiment with a random forest model and employ grid search to identify the optimal configurations. To enhance the efficiency of grid search, we'll work with a subset of our dataset. However, since our data is imbalanced, we must ensure that the ratio of fraudulent transactions is preserved in the subset. To achieve this, we'll utilize the `stratified_sample_idx` function.\n",
        "\n",
        "The `stratified_sample_idx` function takes in an array of class labels `y`, and optionally a fraction `frac` specifying the proportion of samples to be taken from each class, and a `random_state` parameter for seeding randomness. It calculates the count of each class, determines the number of samples needed from each class based on the fraction specified, and then randomly samples indices from each class while maintaining the proportions specified. Finally, it shuffles the sampled indices and returns them. This function is useful for creating a stratified sample, ensuring that the distribution of classes in the sampled data closely matches that of the original data."
      ]
    },
    {
      "cell_type": "code",
      "execution_count": 24,
      "metadata": {
        "colab": {
          "base_uri": "https://localhost:8080/"
        },
        "id": "xDT3My_BDLBX",
        "outputId": "20b6d147-6627-41c5-d9ef-410e2dd78d2e"
      },
      "outputs": [
        {
          "name": "stdout",
          "output_type": "stream",
          "text": [
            "class_count: {0: 1289169, 1: 7506}\n",
            "sample_count: {0: 128916, 1: 750}\n"
          ]
        }
      ],
      "source": [
        "from collections import Counter\n",
        "import random\n",
        "\n",
        "def stratified_sample_idx(y, frac=.1, random_state=8):\n",
        "  random.seed(random_state)\n",
        "\n",
        "  class_count = dict(Counter(y))\n",
        "  print(f'class_count: {class_count}')\n",
        "\n",
        "  sample_count = {k: int(v*frac) for k,v in class_count.items()}\n",
        "  print(f'sample_count: {sample_count}')\n",
        "\n",
        "  sample_idx = []\n",
        "  for class_, sample_from_class in sample_count.items():\n",
        "    idx = list(np.where(y == class_)[0])  # indices fro the class_\n",
        "    sample_idx.extend(random.sample(idx, sample_from_class))  # sampled indices fro the class_\n",
        "\n",
        "  random.shuffle(sample_idx)\n",
        "  return sample_idx\n",
        "\n",
        "sample_idx = stratified_sample_idx(y_train)"
      ]
    },
    {
      "cell_type": "markdown",
      "metadata": {
        "id": "RvFQA-A4Q1pS"
      },
      "source": [
        "### Performance metrics\n",
        "In fraud detection, both recall and precision are crucial evaluation metrics:\n",
        "\n",
        "- **Recall (Sensitivity)**: Recall measures the proportion of actual positive cases (fraudulent transactions) that are correctly identified by the classifier. A high recall indicates that the model can effectively detect most of the fraudulent transactions, minimizing false negatives (missed fraud cases). In fraud detection, missing fraudulent activities can be costly, so maximizing recall is essential to capture as many fraud cases as possible.\n",
        "\n",
        "- **Precision**: Precision measures the proportion of predicted positive cases (identified fraud cases) that are truly positive (actual fraud cases). A high precision indicates that the model correctly identifies a large portion of the predicted fraud cases, minimizing false positives (incorrectly labeled legitimate transactions as fraudulent). Precision is important because false positives can lead to unnecessary investigations or inconvenience for legitimate customers.\n",
        "\n",
        "- **F1 Score**: The F1 score is the harmonic mean of precision and recall, providing a balanced assessment of a classifier's performance. It combines both precision and recall into a single metric, making it useful for evaluating models on imbalanced datasets, such as fraud detection. By considering both false positives and false negatives, the F1 score offers a more comprehensive view of the model's effectiveness."
      ]
    },
    {
      "cell_type": "markdown",
      "metadata": {},
      "source": [
        "#### F_beta score\n",
        "In this project, our primary focus is on recall (minimizing false negatives), even if it entails a trade-off with precision (increase in false positives). The main reasons are:\n",
        "- The consequences of missing fraudulent transactions (false negatives) can be severe, encompassing financial losses and harm to reputation.\n",
        "- Maximizing recall ensures the identification of as many fraudulent transactions as possible, thereby mitigating the risk associated with undetected fraud.\n",
        "- False positives, unless they become excessive, are manageable, as customers can verify transactions through methods like text messages or similar means.\n",
        "\n",
        "\n",
        "F-beta score is a generalized version of the F1 score that allows us to assign different weights to precision and recall. Beta is a parameter that determines the weight assigned to recall relative to precision.\n",
        "- When beta = 1, it is equivalent to the F1 score.\n",
        "- When beta > 1, more weight is given to recall, emphasizing its importance.\n",
        "- When beta < 1, more weight is given to precision.\n",
        "\n",
        "By adjusting the value of beta, we can prioritize either precision or recall based on the specific requirements of the application. In fraud detection, where detecting all fraudulent transactions is critical, a higher weight is typically assigned to recall (e.g., beta = 2), emphasizing the importance of minimizing false negatives.\n",
        "\n",
        "\n",
        "Here, we'll define a custom scoring function (f_beta with beta=2) and utilize `sklearn.metrics.make_scorer` to incorporate it into the grid search cross-validation process."
      ]
    },
    {
      "cell_type": "code",
      "execution_count": 25,
      "metadata": {
        "id": "tENfo1EdQVuh"
      },
      "outputs": [],
      "source": [
        "from sklearn.metrics import make_scorer\n",
        "\n",
        "def f_beta_score(y_true, y_pred):\n",
        "  precision = precision_score(y_true, y_pred)\n",
        "  recall = recall_score(y_true, y_pred)\n",
        "  beta = 2.\n",
        "  f_beta = (1 + beta**2) * (precision * recall) / ((beta**2 * precision) + recall)\n",
        "  return f_beta\n",
        "\n",
        "scoring = make_scorer(f_beta_score)"
      ]
    },
    {
      "cell_type": "markdown",
      "metadata": {
        "id": "_Pup0vt3Ze6r"
      },
      "source": [
        "#### Grid Search\n",
        "We'll employ `sklearn.model_selection.GridSearchCV` to determine the optimal parameters for the RandomForestClassifier model, aiming to maximize the f_beta score."
      ]
    },
    {
      "cell_type": "code",
      "execution_count": 26,
      "metadata": {
        "colab": {
          "base_uri": "https://localhost:8080/",
          "height": 134
        },
        "id": "QJ7VnCePs3Qe",
        "outputId": "00405fa4-098d-49be-fa32-2031677ba76e"
      },
      "outputs": [
        {
          "name": "stdout",
          "output_type": "stream",
          "text": [
            "Fitting 3 folds for each of 4 candidates, totalling 12 fits\n"
          ]
        },
        {
          "data": {
            "text/html": [
              "<style>#sk-container-id-1 {color: black;background-color: white;}#sk-container-id-1 pre{padding: 0;}#sk-container-id-1 div.sk-toggleable {background-color: white;}#sk-container-id-1 label.sk-toggleable__label {cursor: pointer;display: block;width: 100%;margin-bottom: 0;padding: 0.3em;box-sizing: border-box;text-align: center;}#sk-container-id-1 label.sk-toggleable__label-arrow:before {content: \"▸\";float: left;margin-right: 0.25em;color: #696969;}#sk-container-id-1 label.sk-toggleable__label-arrow:hover:before {color: black;}#sk-container-id-1 div.sk-estimator:hover label.sk-toggleable__label-arrow:before {color: black;}#sk-container-id-1 div.sk-toggleable__content {max-height: 0;max-width: 0;overflow: hidden;text-align: left;background-color: #f0f8ff;}#sk-container-id-1 div.sk-toggleable__content pre {margin: 0.2em;color: black;border-radius: 0.25em;background-color: #f0f8ff;}#sk-container-id-1 input.sk-toggleable__control:checked~div.sk-toggleable__content {max-height: 200px;max-width: 100%;overflow: auto;}#sk-container-id-1 input.sk-toggleable__control:checked~label.sk-toggleable__label-arrow:before {content: \"▾\";}#sk-container-id-1 div.sk-estimator input.sk-toggleable__control:checked~label.sk-toggleable__label {background-color: #d4ebff;}#sk-container-id-1 div.sk-label input.sk-toggleable__control:checked~label.sk-toggleable__label {background-color: #d4ebff;}#sk-container-id-1 input.sk-hidden--visually {border: 0;clip: rect(1px 1px 1px 1px);clip: rect(1px, 1px, 1px, 1px);height: 1px;margin: -1px;overflow: hidden;padding: 0;position: absolute;width: 1px;}#sk-container-id-1 div.sk-estimator {font-family: monospace;background-color: #f0f8ff;border: 1px dotted black;border-radius: 0.25em;box-sizing: border-box;margin-bottom: 0.5em;}#sk-container-id-1 div.sk-estimator:hover {background-color: #d4ebff;}#sk-container-id-1 div.sk-parallel-item::after {content: \"\";width: 100%;border-bottom: 1px solid gray;flex-grow: 1;}#sk-container-id-1 div.sk-label:hover label.sk-toggleable__label {background-color: #d4ebff;}#sk-container-id-1 div.sk-serial::before {content: \"\";position: absolute;border-left: 1px solid gray;box-sizing: border-box;top: 0;bottom: 0;left: 50%;z-index: 0;}#sk-container-id-1 div.sk-serial {display: flex;flex-direction: column;align-items: center;background-color: white;padding-right: 0.2em;padding-left: 0.2em;position: relative;}#sk-container-id-1 div.sk-item {position: relative;z-index: 1;}#sk-container-id-1 div.sk-parallel {display: flex;align-items: stretch;justify-content: center;background-color: white;position: relative;}#sk-container-id-1 div.sk-item::before, #sk-container-id-1 div.sk-parallel-item::before {content: \"\";position: absolute;border-left: 1px solid gray;box-sizing: border-box;top: 0;bottom: 0;left: 50%;z-index: -1;}#sk-container-id-1 div.sk-parallel-item {display: flex;flex-direction: column;z-index: 1;position: relative;background-color: white;}#sk-container-id-1 div.sk-parallel-item:first-child::after {align-self: flex-end;width: 50%;}#sk-container-id-1 div.sk-parallel-item:last-child::after {align-self: flex-start;width: 50%;}#sk-container-id-1 div.sk-parallel-item:only-child::after {width: 0;}#sk-container-id-1 div.sk-dashed-wrapped {border: 1px dashed gray;margin: 0 0.4em 0.5em 0.4em;box-sizing: border-box;padding-bottom: 0.4em;background-color: white;}#sk-container-id-1 div.sk-label label {font-family: monospace;font-weight: bold;display: inline-block;line-height: 1.2em;}#sk-container-id-1 div.sk-label-container {text-align: center;}#sk-container-id-1 div.sk-container {/* jupyter's `normalize.less` sets `[hidden] { display: none; }` but bootstrap.min.css set `[hidden] { display: none !important; }` so we also need the `!important` here to be able to override the default hidden behavior on the sphinx rendered scikit-learn.org. See: https://github.com/scikit-learn/scikit-learn/issues/21755 */display: inline-block !important;position: relative;}#sk-container-id-1 div.sk-text-repr-fallback {display: none;}</style><div id=\"sk-container-id-1\" class=\"sk-top-container\"><div class=\"sk-text-repr-fallback\"><pre>GridSearchCV(cv=3,\n",
              "             estimator=RandomForestClassifier(class_weight=&#x27;balanced&#x27;,\n",
              "                                              random_state=8),\n",
              "             n_jobs=-1,\n",
              "             param_grid={&#x27;max_depth&#x27;: [5, 10], &#x27;n_estimators&#x27;: [10, 20]},\n",
              "             scoring=make_scorer(f_beta_score), verbose=3)</pre><b>In a Jupyter environment, please rerun this cell to show the HTML representation or trust the notebook. <br />On GitHub, the HTML representation is unable to render, please try loading this page with nbviewer.org.</b></div><div class=\"sk-container\" hidden><div class=\"sk-item sk-dashed-wrapped\"><div class=\"sk-label-container\"><div class=\"sk-label sk-toggleable\"><input class=\"sk-toggleable__control sk-hidden--visually\" id=\"sk-estimator-id-1\" type=\"checkbox\" ><label for=\"sk-estimator-id-1\" class=\"sk-toggleable__label sk-toggleable__label-arrow\">GridSearchCV</label><div class=\"sk-toggleable__content\"><pre>GridSearchCV(cv=3,\n",
              "             estimator=RandomForestClassifier(class_weight=&#x27;balanced&#x27;,\n",
              "                                              random_state=8),\n",
              "             n_jobs=-1,\n",
              "             param_grid={&#x27;max_depth&#x27;: [5, 10], &#x27;n_estimators&#x27;: [10, 20]},\n",
              "             scoring=make_scorer(f_beta_score), verbose=3)</pre></div></div></div><div class=\"sk-parallel\"><div class=\"sk-parallel-item\"><div class=\"sk-item\"><div class=\"sk-label-container\"><div class=\"sk-label sk-toggleable\"><input class=\"sk-toggleable__control sk-hidden--visually\" id=\"sk-estimator-id-2\" type=\"checkbox\" ><label for=\"sk-estimator-id-2\" class=\"sk-toggleable__label sk-toggleable__label-arrow\">estimator: RandomForestClassifier</label><div class=\"sk-toggleable__content\"><pre>RandomForestClassifier(class_weight=&#x27;balanced&#x27;, random_state=8)</pre></div></div></div><div class=\"sk-serial\"><div class=\"sk-item\"><div class=\"sk-estimator sk-toggleable\"><input class=\"sk-toggleable__control sk-hidden--visually\" id=\"sk-estimator-id-3\" type=\"checkbox\" ><label for=\"sk-estimator-id-3\" class=\"sk-toggleable__label sk-toggleable__label-arrow\">RandomForestClassifier</label><div class=\"sk-toggleable__content\"><pre>RandomForestClassifier(class_weight=&#x27;balanced&#x27;, random_state=8)</pre></div></div></div></div></div></div></div></div></div></div>"
            ],
            "text/plain": [
              "GridSearchCV(cv=3,\n",
              "             estimator=RandomForestClassifier(class_weight='balanced',\n",
              "                                              random_state=8),\n",
              "             n_jobs=-1,\n",
              "             param_grid={'max_depth': [5, 10], 'n_estimators': [10, 20]},\n",
              "             scoring=make_scorer(f_beta_score), verbose=3)"
            ]
          },
          "execution_count": 26,
          "metadata": {},
          "output_type": "execute_result"
        }
      ],
      "source": [
        "from sklearn.ensemble import RandomForestClassifier\n",
        "from sklearn.model_selection import GridSearchCV\n",
        "\n",
        "# Define the parameter grid\n",
        "param_grid = {\n",
        "    'max_depth': [5, 10],\n",
        "    'n_estimators': [10, 20]\n",
        "}\n",
        "\n",
        "# Create the GridSearchCV object\n",
        "grid_search = GridSearchCV(RandomForestClassifier(random_state=8, class_weight='balanced'),\n",
        "                           param_grid, cv=3, scoring=scoring, n_jobs=-1, verbose=3)\n",
        "\n",
        "# GridSearch on a smaller subset of dataset\n",
        "X_subset = X_train_transformed[sample_idx,:]\n",
        "y_subset = y_train.iloc[sample_idx]\n",
        "\n",
        "# Fit the GridSearchCV object to the data\n",
        "grid_search.fit(X_subset, y_subset)\n"
      ]
    },
    {
      "cell_type": "code",
      "execution_count": 27,
      "metadata": {
        "colab": {
          "base_uri": "https://localhost:8080/"
        },
        "id": "U8LBjNThV1i2",
        "outputId": "7aa15e4a-e312-45f4-ce73-dba30b25673b"
      },
      "outputs": [
        {
          "name": "stdout",
          "output_type": "stream",
          "text": [
            "Best params for RF model: {'max_depth': 10, 'n_estimators': 20}\n",
            "Accuracy: 0.99\n",
            "Precision: 0.44\n",
            "Recall: 0.96\n",
            "F1 Score: 0.60\n"
          ]
        }
      ],
      "source": [
        "# Get the best rfc model\n",
        "best_rfc = grid_search.best_estimator_\n",
        "best_params = grid_search.best_params_\n",
        "\n",
        "# Make predictions using the best model\n",
        "y_pred = best_rfc.predict(X_subset)\n",
        "\n",
        "# Calculate the performance metrics\n",
        "best_accuracy = accuracy_score(y_subset, y_pred)\n",
        "best_precision = precision_score(y_subset, y_pred)\n",
        "best_recall = recall_score(y_subset, y_pred)\n",
        "best_f1 = f1_score(y_subset, y_pred)\n",
        "\n",
        "# Print the performance metrics\n",
        "print(f'Best params for RF model: {best_params}')\n",
        "print(f\"Accuracy: {best_accuracy:.2f}\")\n",
        "print(f\"Precision: {best_precision:.2f}\")\n",
        "print(f\"Recall: {best_recall:.2f}\")\n",
        "print(f\"F1 Score: {best_f1:.2f}\")"
      ]
    },
    {
      "cell_type": "markdown",
      "metadata": {
        "id": "MupRPBZaZe6u"
      },
      "source": [
        "The Random Forest model notably outperforms Logistic Regression. Additionally, observe the significantly higher recall compared to precision, as intended.\n",
        "\n",
        "We had utilized a subset of our data for GridSearchCV. Now, let's train our model using the best parameters on the entire training set."
      ]
    },
    {
      "cell_type": "code",
      "execution_count": 28,
      "metadata": {
        "colab": {
          "base_uri": "https://localhost:8080/",
          "height": 91
        },
        "id": "71E2vpkDBTZ0",
        "outputId": "92cd2ab2-5d9b-441b-f54f-51756c7f1ac1"
      },
      "outputs": [
        {
          "data": {
            "text/html": [
              "<style>#sk-container-id-2 {color: black;background-color: white;}#sk-container-id-2 pre{padding: 0;}#sk-container-id-2 div.sk-toggleable {background-color: white;}#sk-container-id-2 label.sk-toggleable__label {cursor: pointer;display: block;width: 100%;margin-bottom: 0;padding: 0.3em;box-sizing: border-box;text-align: center;}#sk-container-id-2 label.sk-toggleable__label-arrow:before {content: \"▸\";float: left;margin-right: 0.25em;color: #696969;}#sk-container-id-2 label.sk-toggleable__label-arrow:hover:before {color: black;}#sk-container-id-2 div.sk-estimator:hover label.sk-toggleable__label-arrow:before {color: black;}#sk-container-id-2 div.sk-toggleable__content {max-height: 0;max-width: 0;overflow: hidden;text-align: left;background-color: #f0f8ff;}#sk-container-id-2 div.sk-toggleable__content pre {margin: 0.2em;color: black;border-radius: 0.25em;background-color: #f0f8ff;}#sk-container-id-2 input.sk-toggleable__control:checked~div.sk-toggleable__content {max-height: 200px;max-width: 100%;overflow: auto;}#sk-container-id-2 input.sk-toggleable__control:checked~label.sk-toggleable__label-arrow:before {content: \"▾\";}#sk-container-id-2 div.sk-estimator input.sk-toggleable__control:checked~label.sk-toggleable__label {background-color: #d4ebff;}#sk-container-id-2 div.sk-label input.sk-toggleable__control:checked~label.sk-toggleable__label {background-color: #d4ebff;}#sk-container-id-2 input.sk-hidden--visually {border: 0;clip: rect(1px 1px 1px 1px);clip: rect(1px, 1px, 1px, 1px);height: 1px;margin: -1px;overflow: hidden;padding: 0;position: absolute;width: 1px;}#sk-container-id-2 div.sk-estimator {font-family: monospace;background-color: #f0f8ff;border: 1px dotted black;border-radius: 0.25em;box-sizing: border-box;margin-bottom: 0.5em;}#sk-container-id-2 div.sk-estimator:hover {background-color: #d4ebff;}#sk-container-id-2 div.sk-parallel-item::after {content: \"\";width: 100%;border-bottom: 1px solid gray;flex-grow: 1;}#sk-container-id-2 div.sk-label:hover label.sk-toggleable__label {background-color: #d4ebff;}#sk-container-id-2 div.sk-serial::before {content: \"\";position: absolute;border-left: 1px solid gray;box-sizing: border-box;top: 0;bottom: 0;left: 50%;z-index: 0;}#sk-container-id-2 div.sk-serial {display: flex;flex-direction: column;align-items: center;background-color: white;padding-right: 0.2em;padding-left: 0.2em;position: relative;}#sk-container-id-2 div.sk-item {position: relative;z-index: 1;}#sk-container-id-2 div.sk-parallel {display: flex;align-items: stretch;justify-content: center;background-color: white;position: relative;}#sk-container-id-2 div.sk-item::before, #sk-container-id-2 div.sk-parallel-item::before {content: \"\";position: absolute;border-left: 1px solid gray;box-sizing: border-box;top: 0;bottom: 0;left: 50%;z-index: -1;}#sk-container-id-2 div.sk-parallel-item {display: flex;flex-direction: column;z-index: 1;position: relative;background-color: white;}#sk-container-id-2 div.sk-parallel-item:first-child::after {align-self: flex-end;width: 50%;}#sk-container-id-2 div.sk-parallel-item:last-child::after {align-self: flex-start;width: 50%;}#sk-container-id-2 div.sk-parallel-item:only-child::after {width: 0;}#sk-container-id-2 div.sk-dashed-wrapped {border: 1px dashed gray;margin: 0 0.4em 0.5em 0.4em;box-sizing: border-box;padding-bottom: 0.4em;background-color: white;}#sk-container-id-2 div.sk-label label {font-family: monospace;font-weight: bold;display: inline-block;line-height: 1.2em;}#sk-container-id-2 div.sk-label-container {text-align: center;}#sk-container-id-2 div.sk-container {/* jupyter's `normalize.less` sets `[hidden] { display: none; }` but bootstrap.min.css set `[hidden] { display: none !important; }` so we also need the `!important` here to be able to override the default hidden behavior on the sphinx rendered scikit-learn.org. See: https://github.com/scikit-learn/scikit-learn/issues/21755 */display: inline-block !important;position: relative;}#sk-container-id-2 div.sk-text-repr-fallback {display: none;}</style><div id=\"sk-container-id-2\" class=\"sk-top-container\"><div class=\"sk-text-repr-fallback\"><pre>RandomForestClassifier(class_weight=&#x27;balanced&#x27;, max_depth=10, n_estimators=20,\n",
              "                       random_state=8)</pre><b>In a Jupyter environment, please rerun this cell to show the HTML representation or trust the notebook. <br />On GitHub, the HTML representation is unable to render, please try loading this page with nbviewer.org.</b></div><div class=\"sk-container\" hidden><div class=\"sk-item\"><div class=\"sk-estimator sk-toggleable\"><input class=\"sk-toggleable__control sk-hidden--visually\" id=\"sk-estimator-id-4\" type=\"checkbox\" checked><label for=\"sk-estimator-id-4\" class=\"sk-toggleable__label sk-toggleable__label-arrow\">RandomForestClassifier</label><div class=\"sk-toggleable__content\"><pre>RandomForestClassifier(class_weight=&#x27;balanced&#x27;, max_depth=10, n_estimators=20,\n",
              "                       random_state=8)</pre></div></div></div></div></div>"
            ],
            "text/plain": [
              "RandomForestClassifier(class_weight='balanced', max_depth=10, n_estimators=20,\n",
              "                       random_state=8)"
            ]
          },
          "execution_count": 28,
          "metadata": {},
          "output_type": "execute_result"
        }
      ],
      "source": [
        "# Train the best rfc model on the entire dataset\n",
        "best_rfc.fit(X_train_transformed, y_train)"
      ]
    },
    {
      "cell_type": "markdown",
      "metadata": {
        "id": "hd0ly78nZe6x"
      },
      "source": [
        "## Model evaluation\n",
        "Here, we'll examine more descriptive criteria such as precision-recall and ROC curves to assess our Random Forest model."
      ]
    },
    {
      "cell_type": "markdown",
      "metadata": {
        "id": "5mcAEYMwZe6y"
      },
      "source": [
        "### Precision-Recall (PR) Curve:\n",
        "\n",
        "- Precision: Precision is the ratio of true positive predictions to the total number of positive predictions (both true positives and false positives). It measures the accuracy of positive predictions made by the classifier.\n",
        "- Recall (Sensitivity): Recall is the ratio of true positive predictions to the total number of actual positives (true positives and false negatives). It measures the ability of the classifier to correctly identify positive instances.\n",
        "- PR Curve: The PR curve is a plot of precision against recall at various classification thresholds. Each point on the curve represents a different threshold setting. A higher area under the PR curve indicates better model performance, especially in imbalanced datasets where the positive class is rare."
      ]
    },
    {
      "cell_type": "code",
      "execution_count": 29,
      "metadata": {
        "id": "AP9qYs8xAfMZ"
      },
      "outputs": [],
      "source": [
        "# Get the probabilities and predictions for our training dataset\n",
        "y_prob = best_rfc.predict_proba(X_train_transformed)[:, 1]\n",
        "y_pred = best_rfc.predict(X_train_transformed)"
      ]
    },
    {
      "cell_type": "code",
      "execution_count": 30,
      "metadata": {
        "colab": {
          "base_uri": "https://localhost:8080/",
          "height": 472
        },
        "id": "XeGFdU1jw3J8",
        "outputId": "c508e90c-4819-4848-8d00-bd91c5688b1f"
      },
      "outputs": [
        {
          "data": {
            "image/png": "[encoded data removed]",
            "text/plain": [
              "<Figure size 640x480 with 1 Axes>"
            ]
          },
          "metadata": {},
          "output_type": "display_data"
        }
      ],
      "source": [
        "from sklearn.metrics import precision_recall_curve\n",
        "\n",
        "precision, recall, _ = precision_recall_curve(y_train, y_prob)\n",
        "model_precision = precision_score(y_train, y_pred)\n",
        "model_recall = recall_score(y_train, y_pred)\n",
        "\n",
        "# Plot the precision-recall curve\n",
        "plt.figure()\n",
        "plt.plot(recall, precision, label='Precision-Recall Curve')\n",
        "\n",
        "# Add a marker to indicate the fitted model\n",
        "plt.scatter(model_recall, model_precision, color='red', marker='o', label='Fitted Model')\n",
        "\n",
        "# Add labels and legend\n",
        "plt.xlabel('Recall')\n",
        "plt.ylabel('Precision')\n",
        "plt.title('Precision-Recall Curve')\n",
        "plt.legend()\n",
        "plt.grid()\n",
        "plt.show()"
      ]
    },
    {
      "cell_type": "markdown",
      "metadata": {
        "id": "rxAbsvg1Ze62"
      },
      "source": [
        "### Receiver Operating Characteristic (ROC) Curve\n",
        "\n",
        "- True Positive Rate (Sensitivity): The true positive rate (TPR), also known as sensitivity or recall, is the ratio of true positive predictions to the total number of actual positives.\n",
        "- False Positive Rate (Specificity): The false positive rate (FPR), also known as the fall-out, is the ratio of false positive predictions to the total number of actual negatives.\n",
        "- ROC Curve: The ROC curve is a plot of the true positive rate against the false positive rate at various classification thresholds. Each point on the curve represents a different threshold setting. A higher area under the ROC curve (ROC AUC) indicates better model performance, with a higher TPR and lower FPR across various thresholds."
      ]
    },
    {
      "cell_type": "code",
      "execution_count": 31,
      "metadata": {
        "colab": {
          "base_uri": "https://localhost:8080/",
          "height": 472
        },
        "id": "Xe57IPlSZWTq",
        "outputId": "f4a9d212-0176-4a7d-bbbc-15ecf509c480"
      },
      "outputs": [
        {
          "data": {
            "image/png": "[encoded data removed]",
            "text/plain": [
              "<Figure size 640x480 with 1 Axes>"
            ]
          },
          "metadata": {},
          "output_type": "display_data"
        }
      ],
      "source": [
        "from sklearn.metrics import roc_auc_score, roc_curve\n",
        "\n",
        "# Get the ROC curve data\n",
        "fpr, tpr, thresholds = roc_curve(y_train, y_prob)\n",
        "model_fpr = (y_train != y_pred).sum()/(y_train==0).sum()\n",
        "model_tpr = recall_score(y_train, y_pred)\n",
        "\n",
        "# Calculate the AUC score\n",
        "auc_score = roc_auc_score(y_train, y_prob)\n",
        "\n",
        "# Plot the ROC curve\n",
        "plt.figure()\n",
        "plt.plot(fpr, tpr, label=f'AUC Score: {auc_score:.2f}')\n",
        "# Add a marker to indicate the fitted model\n",
        "plt.scatter(model_fpr, model_tpr, color='red', marker='o', label='Fitted Model')\n",
        "\n",
        "plt.plot([0, 1], [0, 1], 'k--')\n",
        "plt.xlabel('False Positive Rate')\n",
        "plt.ylabel('True Positive Rate')\n",
        "plt.title('ROC Curve')\n",
        "plt.legend()\n",
        "plt.grid()\n",
        "plt.show()\n"
      ]
    },
    {
      "cell_type": "markdown",
      "metadata": {
        "id": "yoNqz1szZe63"
      },
      "source": [
        "### Feature importance\n",
        "\n",
        "Feature importance analysis provides insights into the predictive power of different features in a machine learning model. It helps\n",
        "identify which features contribute the most to the model's predictions."
      ]
    },
    {
      "cell_type": "code",
      "execution_count": 32,
      "metadata": {
        "colab": {
          "base_uri": "https://localhost:8080/",
          "height": 676
        },
        "id": "pkg9gETlSkmY",
        "outputId": "1d467205-a2a3-473e-e057-44b6031bad6a"
      },
      "outputs": [
        {
          "data": {
            "image/png": "[encoded data removed]",
            "text/plain": [
              "<Figure size 640x480 with 1 Axes>"
            ]
          },
          "metadata": {},
          "output_type": "display_data"
        }
      ],
      "source": [
        "importances = best_rfc.feature_importances_\n",
        "features = pipeline.get_feature_names_out()\n",
        "\n",
        "feature_importances = pd.Series(importances, index=features).sort_values(ascending=False)\n",
        "\n",
        "feature_importances.plot(kind='bar')\n",
        "plt.show()"
      ]
    },
    {
      "cell_type": "markdown",
      "metadata": {},
      "source": [
        "As anticipated from the correlations observed, the logarithm of the transaction amount exhibits the greatest influence on the model predictions."
      ]
    },
    {
      "cell_type": "markdown",
      "metadata": {
        "id": "9kpVGL02Ze65"
      },
      "source": [
        "### Performance on test data\n",
        "\n",
        "Next, we'll assess the performance of our model on the test data."
      ]
    },
    {
      "cell_type": "code",
      "execution_count": 33,
      "metadata": {
        "colab": {
          "base_uri": "https://localhost:8080/"
        },
        "id": "_ZlJGHOmDSnW",
        "outputId": "372dc42d-adff-439b-b786-4adf9385db87"
      },
      "outputs": [
        {
          "name": "stdout",
          "output_type": "stream",
          "text": [
            "Test Accuracy: 0.98\n",
            "Test Precision: 0.19\n",
            "Test Recall: 0.94\n",
            "Test F1 Score: 0.31\n"
          ]
        }
      ],
      "source": [
        "y_pred = best_rfc.predict(X_test_transformed)\n",
        "\n",
        "# Calculate the performance metrics\n",
        "accuracy = accuracy_score(y_test, y_pred)\n",
        "precision = precision_score(y_test, y_pred)\n",
        "recall = recall_score(y_test, y_pred)\n",
        "f1 = f1_score(y_test, y_pred)\n",
        "\n",
        "# Print the performance metrics\n",
        "print(f\"Test Accuracy: {accuracy:.2f}\")\n",
        "print(f\"Test Precision: {precision:.2f}\")\n",
        "print(f\"Test Recall: {recall:.2f}\")\n",
        "print(f\"Test F1 Score: {f1:.2f}\")\n",
        "\n",
        "performance_metrics['RandomForest'] = {'accuracy':accuracy, 'precision': precision, 'recall':recall, 'f1':f1}"
      ]
    },
    {
      "cell_type": "markdown",
      "metadata": {},
      "source": [
        "It appears that our model exhibits strong recall performance, yet the precision is lower than anticipated when evaluated on the test data."
      ]
    },
    {
      "cell_type": "markdown",
      "metadata": {
        "id": "NWgi7zzTZe67"
      },
      "source": [
        "### Confusion matrix\n",
        "\n",
        "A confusion matrix is a tabular representation that summarizes the performance of a classification model by comparing the predicted labels to the actual labels of the test data. It consists of four main components:\n",
        "\n",
        "- **True Positive (TP)**: Instances that are correctly predicted as positive by the model.\n",
        "- **True Negative (TN)**: Instances that are correctly predicted as negative by the model.\n",
        "- **False Positive (FP)**: Instances that are incorrectly predicted as positive by the model (Type I error).\n",
        "- **False Negative (FN)**: Instances that are incorrectly predicted as negative by the model (Type II error).\n",
        "\n",
        "The confusion matrix provides insights into the model's performance across different classes and helps evaluate its accuracy, precision, recall, and F1 score."
      ]
    },
    {
      "cell_type": "code",
      "execution_count": 34,
      "metadata": {
        "colab": {
          "base_uri": "https://localhost:8080/",
          "height": 410
        },
        "id": "BEyxZ4FuEOoV",
        "outputId": "d06b99cb-8aa2-4761-b0ab-04eec2598532"
      },
      "outputs": [
        {
          "data": {
            "image/png": "[encoded data removed]",
            "text/plain": [
              "<Figure size 400x400 with 1 Axes>"
            ]
          },
          "metadata": {},
          "output_type": "display_data"
        }
      ],
      "source": [
        "import seaborn as sns\n",
        "from sklearn.metrics import confusion_matrix\n",
        "\n",
        "# Create the confusion matrix\n",
        "cm = confusion_matrix(y_test, y_pred)\n",
        "\n",
        "# Create the confusion matrix plot\n",
        "plt.figure(figsize=(4,4))\n",
        "sns.heatmap(cm, annot=True, fmt=\"d\", cmap=\"Blues\", cbar=False)\n",
        "\n",
        "# Add labels and title\n",
        "plt.title(\"Confusion Matrix\")\n",
        "plt.xlabel(\"Predicted Class\")\n",
        "plt.ylabel(\"Actual Class\")\n",
        "\n",
        "# Show the plot\n",
        "plt.show()\n"
      ]
    },
    {
      "cell_type": "markdown",
      "metadata": {
        "id": "YI0ejZQDZe68"
      },
      "source": [
        "Overall, our model exhibits high recall (low false negative rate) but low precision (high false positive rate). To enhance its performance, we'll explore ensemble methods."
      ]
    },
    {
      "cell_type": "markdown",
      "metadata": {
        "id": "HBq9LlhAZe69"
      },
      "source": [
        "## Ensemble methods\n",
        "\n",
        "- Ensemble methods are machine learning techniques that combine the predictions of multiple base models to improve overall performance.\n",
        "- Ensemble methods leverage the wisdom of crowds by combining the predictions of multiple models to make more accurate predictions than any single model alone.\n",
        "- They can be classified into two main categories: bagging and boosting.\n",
        "- Bagging methods (e.g., Random Forest) train multiple base models independently on different subsets of the training data and combine their predictions through averaging or voting.\n",
        "- Boosting methods (e.g., AdaBoost, Gradient Boosting) train base models sequentially, with each subsequent model focusing on improving the performance of the previous model by emphasizing misclassified instances."
      ]
    },
    {
      "cell_type": "markdown",
      "metadata": {
        "id": "9wxXnEUFZe6-"
      },
      "source": [
        "### Naive Bayes\n",
        "First we'll train a basic Gaussian Naive Bayes model. Then, we'll incorporate it into our ensemble models."
      ]
    },
    {
      "cell_type": "code",
      "execution_count": 35,
      "metadata": {
        "colab": {
          "base_uri": "https://localhost:8080/"
        },
        "id": "rejA0a8t_I3M",
        "outputId": "486fb924-7675-404e-8fa0-28df8c95117a"
      },
      "outputs": [
        {
          "name": "stdout",
          "output_type": "stream",
          "text": [
            "Naive Bayes Accuracy: 0.80\n",
            "Naive Bayes Precision: 0.01\n",
            "Naive Bayes Recall: 0.69\n",
            "Naive Bayes F1 Score: 0.03\n"
          ]
        }
      ],
      "source": [
        "from sklearn.naive_bayes import GaussianNB\n",
        "\n",
        "# Create a Naive Bayes classifier\n",
        "nb = GaussianNB()\n",
        "\n",
        "# Fit the classifier to the training data\n",
        "nb.fit(X_train_transformed, y_train)\n",
        "\n",
        "# Make predictions on the test data\n",
        "y_pred_nb = nb.predict(X_test_transformed)\n",
        "\n",
        "# Calculate the performance metrics\n",
        "accuracy_nb = accuracy_score(y_test, y_pred_nb)\n",
        "precision_nb = precision_score(y_test, y_pred_nb)\n",
        "recall_nb = recall_score(y_test, y_pred_nb)\n",
        "f1_nb = f1_score(y_test, y_pred_nb)\n",
        "\n",
        "# Print the performance metrics\n",
        "print(f\"Naive Bayes Accuracy: {accuracy_nb:.2f}\")\n",
        "print(f\"Naive Bayes Precision: {precision_nb:.2f}\")\n",
        "print(f\"Naive Bayes Recall: {recall_nb:.2f}\")\n",
        "print(f\"Naive Bayes F1 Score: {f1_nb:.2f}\")\n",
        "\n",
        "performance_metrics['NaiveBayes'] = {'accuracy':accuracy_nb, 'precision': precision_nb, 'recall':recall_nb, 'f1':f1_nb}\n"
      ]
    },
    {
      "cell_type": "markdown",
      "metadata": {
        "id": "kVA2r4gUZe7B"
      },
      "source": [
        "Like Logistic Regression, this model does not achieve a satisfactory precision score. But it might still help the ensemble."
      ]
    },
    {
      "cell_type": "markdown",
      "metadata": {
        "id": "xvQuMcXUZe7B"
      },
      "source": [
        "### Voting Classifier:\n",
        "- The Voting Classifier combines the predictions of multiple individual classifiers (e.g., logistic regression, decision trees, support vector machines) and aggregates them through a voting mechanism.\n",
        "- There are two main types of Voting Classifiers: hard voting and soft voting.\n",
        "- In hard voting, the final prediction is determined by a majority vote among the base models.\n",
        "- In soft voting, the final prediction is based on the average probability predicted by the base models.\n",
        "- Voting Classifier works well when the base models are diverse and complementary, leading to improved performance compared to individual models.\n"
      ]
    },
    {
      "cell_type": "code",
      "execution_count": 36,
      "metadata": {
        "id": "RmlYwiRk_eHz"
      },
      "outputs": [],
      "source": [
        "# Define the estimators (individual models) to be used in the ensemble model\n",
        "from sklearn.tree import DecisionTreeClassifier\n",
        "\n",
        "estimators = [('dt', DecisionTreeClassifier(max_depth=3)), ('lr', LogisticRegression()), ('nb', GaussianNB())]"
      ]
    },
    {
      "cell_type": "code",
      "execution_count": 37,
      "metadata": {
        "colab": {
          "base_uri": "https://localhost:8080/"
        },
        "id": "SUiEWk3W7cpM",
        "outputId": "4e794991-66c4-404e-da9a-f7feecafbafd"
      },
      "outputs": [
        {
          "name": "stdout",
          "output_type": "stream",
          "text": [
            "Voting Accuracy: 1.00\n",
            "Voting Precision: 0.71\n",
            "Voting Recall: 0.56\n",
            "Voting F1 Score: 0.63\n"
          ]
        }
      ],
      "source": [
        "from sklearn.ensemble import VotingClassifier\n",
        "\n",
        "# Define the voting classifier\n",
        "voting_clf = VotingClassifier(estimators=estimators, voting='soft')\n",
        "\n",
        "# Fit the voting classifier to the data\n",
        "voting_clf.fit(X_subset, y_subset)\n",
        "\n",
        "# Make predictions using the voting classifier\n",
        "y_pred_voting = voting_clf.predict(X_test_transformed)\n",
        "\n",
        "# Calculate the performance metrics\n",
        "accuracy_voting = accuracy_score(y_test, y_pred_voting)\n",
        "precision_voting = precision_score(y_test, y_pred_voting)\n",
        "recall_voting = recall_score(y_test, y_pred_voting)\n",
        "f1_voting = f1_score(y_test, y_pred_voting)\n",
        "\n",
        "# Print the performance metrics\n",
        "print(f\"Voting Accuracy: {accuracy_voting:.2f}\")\n",
        "print(f\"Voting Precision: {precision_voting:.2f}\")\n",
        "print(f\"Voting Recall: {recall_voting:.2f}\")\n",
        "print(f\"Voting F1 Score: {f1_voting:.2f}\")\n",
        "\n",
        "performance_metrics['Voting'] = {'accuracy':accuracy_voting, 'precision': precision_voting, 'recall':recall_voting, 'f1':f1_voting}"
      ]
    },
    {
      "cell_type": "markdown",
      "metadata": {
        "id": "_CWfHZVmZe7H"
      },
      "source": [
        "The Voting Classifier exhibited enhancements in precision and F1 score, at the expense of decreased recall."
      ]
    },
    {
      "cell_type": "markdown",
      "metadata": {
        "id": "XVBiKHXbZe7I"
      },
      "source": [
        "### Stacking Classifier\n",
        "Stacking, or stacked generalization, is an ensemble learning technique that combines multiple base models using a meta-learner to make final predictions. Here's a brief explanation:\n",
        "\n",
        "- **Base Models**: Stacking starts by training multiple diverse base models (e.g., decision trees, random forests, support vector machines) on the training data.\n",
        "   \n",
        "- **Meta-Learner**: Predictions from the base models are then used as features to train a meta-learner (usually a simple model).\n",
        "   \n",
        "- **Final Prediction**: The meta-learner combines the predictions of the base models to make the final prediction.\n",
        "\n",
        "Stacking is effective because it leverages the strengths of multiple models and can potentially outperform any single base model. It is particularly useful when the base models have different strengths and weaknesses, as it allows them to compensate for each other's limitations."
      ]
    },
    {
      "cell_type": "code",
      "execution_count": 38,
      "metadata": {
        "colab": {
          "base_uri": "https://localhost:8080/"
        },
        "id": "4vmiKR1d7kV5",
        "outputId": "3334d3d1-7809-4d72-9a51-a186a76c5569"
      },
      "outputs": [
        {
          "name": "stdout",
          "output_type": "stream",
          "text": [
            "Stacking Accuracy: 0.88\n",
            "Stacking Precision: 0.03\n",
            "Stacking Recall: 0.86\n",
            "Stacking F1 Score: 0.05\n"
          ]
        }
      ],
      "source": [
        "from sklearn.tree import DecisionTreeClassifier\n",
        "from sklearn.ensemble import StackingClassifier\n",
        "\n",
        "meta_model = RandomForestClassifier(random_state=8, max_depth=2, n_estimators=5, class_weight='balanced')\n",
        "\n",
        "# Define the stacking classifier\n",
        "stacking_clf = StackingClassifier(estimators=estimators, final_estimator=meta_model)\n",
        "\n",
        "# Fit the stacking classifier to the data\n",
        "stacking_clf.fit(X_subset, y_subset)\n",
        "\n",
        "# Make predictions using the stacking classifier\n",
        "y_pred_stacking = stacking_clf.predict(X_test_transformed)\n",
        "\n",
        "# Calculate the performance metrics\n",
        "accuracy_stacking = accuracy_score(y_test, y_pred_stacking)\n",
        "precision_stacking = precision_score(y_test, y_pred_stacking)\n",
        "recall_stacking = recall_score(y_test, y_pred_stacking)\n",
        "f1_stacking = f1_score(y_test, y_pred_stacking)\n",
        "\n",
        "# Print the performance metrics\n",
        "print(f\"Stacking Accuracy: {accuracy_stacking:.2f}\")\n",
        "print(f\"Stacking Precision: {precision_stacking:.2f}\")\n",
        "print(f\"Stacking Recall: {recall_stacking:.2f}\")\n",
        "print(f\"Stacking F1 Score: {f1_stacking:.2f}\")\n",
        "\n",
        "performance_metrics['Stacking'] = {'accuracy':accuracy_stacking, 'precision': precision_stacking, 'recall':recall_stacking, 'f1':f1_stacking}\n"
      ]
    },
    {
      "cell_type": "markdown",
      "metadata": {
        "id": "dX92q6FsZe7L"
      },
      "source": [
        "The Stacking Classifier produced considerably low precision and F1 score, possibly because of the underperformance of the Logistic Regression and Naive Bayes models."
      ]
    },
    {
      "cell_type": "markdown",
      "metadata": {
        "id": "ZL3ghKgjZe7O"
      },
      "source": [
        "### AdaBoost (Adaptive Boosting)\n",
        "- AdaBoost combines multiple weak learners (typically decision trees) sequentially, with each subsequent model focusing on improving the performance of the previous one.\n",
        "- It assigns higher weights to incorrectly classified instances, allowing subsequent models to focus more on difficult-to-classify instances.\n",
        "- The final prediction is made by a weighted combination of the predictions from all the weak learners.\n"
      ]
    },
    {
      "cell_type": "code",
      "execution_count": 39,
      "metadata": {
        "colab": {
          "base_uri": "https://localhost:8080/"
        },
        "id": "9nFktSZFHQSV",
        "outputId": "7297e5bc-d992-44e6-e172-6f1f39bbeb43"
      },
      "outputs": [
        {
          "name": "stdout",
          "output_type": "stream",
          "text": [
            "Boosting Accuracy: 1.00\n",
            "Boosting Precision: 0.89\n",
            "Boosting Recall: 0.77\n",
            "Boosting F1 Score: 0.82\n"
          ]
        }
      ],
      "source": [
        "from sklearn.ensemble import AdaBoostClassifier\n",
        "\n",
        "# Create the boosting classifier\n",
        "boosting_clf = AdaBoostClassifier(DecisionTreeClassifier(max_depth=5), n_estimators=10)\n",
        "\n",
        "# Fit the boosting classifier to the data\n",
        "boosting_clf.fit(X_train_transformed, y_train)\n",
        "\n",
        "# Make predictions using the boosting classifier\n",
        "y_pred_boosting = boosting_clf.predict(X_test_transformed)\n",
        "\n",
        "# Calculate the performance metrics\n",
        "accuracy = accuracy_score(y_test, y_pred_boosting)\n",
        "precision = precision_score(y_test, y_pred_boosting)\n",
        "recall = recall_score(y_test, y_pred_boosting)\n",
        "f1 = f1_score(y_test, y_pred_boosting)\n",
        "\n",
        "# Print the performance metrics\n",
        "print(f\"Boosting Accuracy: {accuracy:.2f}\")\n",
        "print(f\"Boosting Precision: {precision:.2f}\")\n",
        "print(f\"Boosting Recall: {recall:.2f}\")\n",
        "print(f\"Boosting F1 Score: {f1:.2f}\")\n",
        "\n",
        "performance_metrics['AdaBoostClassifier'] = {'accuracy':accuracy, 'precision': precision, 'recall':recall, 'f1':f1}\n"
      ]
    },
    {
      "cell_type": "markdown",
      "metadata": {
        "id": "raAfYfmhZe7T"
      },
      "source": [
        "### XGBoost (Extreme Gradient Boosting)\n",
        "- XGBoost is an efficient and scalable implementation of gradient boosting machines.\n",
        "- It builds a series of decision trees sequentially, each tree correcting the errors made by the previous ones.\n",
        "- XGBoost incorporates regularization techniques to prevent overfitting and achieve better generalization performance.\n",
        "- It supports parallel and distributed computing, making it suitable for large datasets.\n"
      ]
    },
    {
      "cell_type": "code",
      "execution_count": 40,
      "metadata": {
        "colab": {
          "base_uri": "https://localhost:8080/"
        },
        "id": "OiWpnwa8uy1O",
        "outputId": "82319fd1-71db-4227-d2ea-e78bc00858ae"
      },
      "outputs": [
        {
          "name": "stdout",
          "output_type": "stream",
          "text": [
            "XGBoost Accuracy: 1.00\n",
            "XGBoost Precision: 0.87\n",
            "XGBoost Recall: 0.72\n",
            "XGBoost F1 Score: 0.79\n"
          ]
        }
      ],
      "source": [
        "from xgboost import XGBClassifier\n",
        "\n",
        "# Define the XGBoost classifier\n",
        "xgb_clf = XGBClassifier(n_estimators=10, max_depth=5)\n",
        "\n",
        "# Fit the XGBoost classifier to the data\n",
        "xgb_clf.fit(X_train_transformed, y_train)\n",
        "\n",
        "# Make predictions using the XGBoost classifier\n",
        "y_pred_xgb = xgb_clf.predict(X_test_transformed)\n",
        "\n",
        "# Calculate the performance metrics\n",
        "accuracy = accuracy_score(y_test, y_pred_xgb)\n",
        "precision = precision_score(y_test, y_pred_xgb)\n",
        "recall = recall_score(y_test, y_pred_xgb)\n",
        "f1 = f1_score(y_test, y_pred_xgb)\n",
        "\n",
        "# Print the performance metrics\n",
        "print(f\"XGBoost Accuracy: {accuracy:.2f}\")\n",
        "print(f\"XGBoost Precision: {precision:.2f}\")\n",
        "print(f\"XGBoost Recall: {recall:.2f}\")\n",
        "print(f\"XGBoost F1 Score: {f1:.2f}\")\n",
        "\n",
        "performance_metrics['XGBClassifier'] = {'accuracy':accuracy, 'precision': precision, 'recall':recall, 'f1':f1}\n"
      ]
    },
    {
      "cell_type": "markdown",
      "metadata": {
        "id": "0i2WI_3jZe7W"
      },
      "source": [
        "Both AdaBoost and XGBoost achieve relatively high recall, precision, and F1 score, indicating their effectiveness. It appears that we have found our top-performing models."
      ]
    },
    {
      "cell_type": "markdown",
      "metadata": {
        "id": "Dtxk5GLEZe7X"
      },
      "source": [
        "### Isolation Forest\n",
        "Before we conclude, considering our target variable is an imbalanced binary variable, we can experiment with using an anomaly detection algorithm to detect fraud transactions. Let's explore the Isolation Forest algorithm.\n",
        "\n",
        "Isolation Forest is an anomaly detection algorithm that identifies outliers in a dataset. It works by isolating instances in a dataset by randomly selecting a feature and then randomly selecting a split value between the maximum and minimum values of the selected feature.\n",
        "\n",
        "- Isolation Forest is particularly effective for identifying anomalies in high-dimensional datasets.\n",
        "- It works well with imbalanced datasets and can efficiently handle large datasets.\n",
        "- The algorithm is based on the principle that anomalies are less frequent and are typically located in sparser regions of the feature space.\n"
      ]
    },
    {
      "cell_type": "code",
      "execution_count": 41,
      "metadata": {
        "colab": {
          "base_uri": "https://localhost:8080/"
        },
        "id": "E-BMrivX06l8",
        "outputId": "98f0229a-8c7f-4402-cd25-eed3b760a70b"
      },
      "outputs": [
        {
          "name": "stdout",
          "output_type": "stream",
          "text": [
            "ISOF Accuracy: 0.93\n",
            "ISOF Precision: 0.03\n",
            "ISOF Recall: 0.35\n",
            "ISOF F1 Score: 0.05\n"
          ]
        }
      ],
      "source": [
        "from sklearn.ensemble import IsolationForest\n",
        "from sklearn.model_selection import train_test_split\n",
        "\n",
        "# Define the Isolation Forest model\n",
        "iso_forest = IsolationForest(contamination=.07, random_state=8)\n",
        "\n",
        "# Fit the model to the data\n",
        "iso_forest.fit(X_train_transformed)\n",
        "\n",
        "# Predict using the model\n",
        "y_pred_iso = iso_forest.predict(X_train_transformed)\n",
        "\n",
        "# convert isolation forest prediction to be consistent with y_train\n",
        "y_pred_iso = np.vectorize({1:0, -1:1}.get)(y_pred_iso)\n",
        "\n",
        "# Calculate the performance metrics\n",
        "accuracy = accuracy_score(y_train, y_pred_iso)\n",
        "precision = precision_score(y_train, y_pred_iso)\n",
        "recall = recall_score(y_train, y_pred_iso)\n",
        "f1 = f1_score(y_train, y_pred_iso)\n",
        "\n",
        "# Print the performance metrics\n",
        "print(f\"ISOF Accuracy: {accuracy:.2f}\")\n",
        "print(f\"ISOF Precision: {precision:.2f}\")\n",
        "print(f\"ISOF Recall: {recall:.2f}\")\n",
        "print(f\"ISOF F1 Score: {f1:.2f}\")\n",
        "\n",
        "performance_metrics['IsolationForest'] = {'accuracy':accuracy, 'precision': precision, 'recall':recall, 'f1':f1}"
      ]
    },
    {
      "cell_type": "markdown",
      "metadata": {
        "id": "RiomfpOnZe7Z"
      },
      "source": [
        "In our scenario, Isolation Forest did not prove to be effective."
      ]
    },
    {
      "cell_type": "markdown",
      "metadata": {
        "id": "25_ne7CgZe7Z"
      },
      "source": [
        "## Results Summary\n",
        "\n",
        "The table below summarizes the performance metrics of various classifiers evaluated on the dataset.\n",
        "\n",
        "These winner models, AdaBoost Classifier and XGB Classifier, stand out for their high accuracy and balanced performance across precision, recall, and F1 score metrics. They demonstrate robustness and effectiveness in accurately predicting fraudulent transactions while minimizing false positives and false negatives."
      ]
    },
    {
      "cell_type": "code",
      "execution_count": 42,
      "metadata": {
        "colab": {
          "base_uri": "https://localhost:8080/",
          "height": 331
        },
        "id": "FYrLQ_GyH98N",
        "outputId": "c961c23e-87d5-423a-a6ac-16f95c0ac238"
      },
      "outputs": [
        {
          "data": {
            "text/html": [
              "<style type=\"text/css\">\n",
              "#T_1ea68_row0_col0 {\n",
              "  background-color: #00491d;\n",
              "  color: #f1f1f1;\n",
              "}\n",
              "#T_1ea68_row0_col1, #T_1ea68_row0_col2, #T_1ea68_row0_col3, #T_1ea68_row1_col0 {\n",
              "  background-color: #f7fcf5;\n",
              "  color: #000000;\n",
              "}\n",
              "#T_1ea68_row1_col1, #T_1ea68_row3_col1 {\n",
              "  background-color: #f5fbf3;\n",
              "  color: #000000;\n",
              "}\n",
              "#T_1ea68_row1_col2 {\n",
              "  background-color: #1d8640;\n",
              "  color: #f1f1f1;\n",
              "}\n",
              "#T_1ea68_row1_col3 {\n",
              "  background-color: #f4fbf1;\n",
              "  color: #000000;\n",
              "}\n",
              "#T_1ea68_row2_col0 {\n",
              "  background-color: #005723;\n",
              "  color: #f1f1f1;\n",
              "}\n",
              "#T_1ea68_row2_col1, #T_1ea68_row3_col0 {\n",
              "  background-color: #d1edcb;\n",
              "  color: #000000;\n",
              "}\n",
              "#T_1ea68_row2_col2, #T_1ea68_row6_col0, #T_1ea68_row6_col1, #T_1ea68_row6_col3, #T_1ea68_row7_col0 {\n",
              "  background-color: #00441b;\n",
              "  color: #f1f1f1;\n",
              "}\n",
              "#T_1ea68_row2_col3 {\n",
              "  background-color: #9fd899;\n",
              "  color: #000000;\n",
              "}\n",
              "#T_1ea68_row3_col2 {\n",
              "  background-color: #289049;\n",
              "  color: #f1f1f1;\n",
              "}\n",
              "#T_1ea68_row3_col3, #T_1ea68_row8_col1 {\n",
              "  background-color: #f2faf0;\n",
              "  color: #000000;\n",
              "}\n",
              "#T_1ea68_row4_col0 {\n",
              "  background-color: #00451c;\n",
              "  color: #f1f1f1;\n",
              "}\n",
              "#T_1ea68_row4_col1 {\n",
              "  background-color: #137d39;\n",
              "  color: #f1f1f1;\n",
              "}\n",
              "#T_1ea68_row4_col2 {\n",
              "  background-color: #4eb264;\n",
              "  color: #f1f1f1;\n",
              "}\n",
              "#T_1ea68_row4_col3, #T_1ea68_row7_col2 {\n",
              "  background-color: #208843;\n",
              "  color: #f1f1f1;\n",
              "}\n",
              "#T_1ea68_row5_col0 {\n",
              "  background-color: #70c274;\n",
              "  color: #000000;\n",
              "}\n",
              "#T_1ea68_row5_col1 {\n",
              "  background-color: #f3faf0;\n",
              "  color: #000000;\n",
              "}\n",
              "#T_1ea68_row5_col2 {\n",
              "  background-color: #006227;\n",
              "  color: #f1f1f1;\n",
              "}\n",
              "#T_1ea68_row5_col3, #T_1ea68_row8_col3 {\n",
              "  background-color: #eef8ea;\n",
              "  color: #000000;\n",
              "}\n",
              "#T_1ea68_row6_col2 {\n",
              "  background-color: #117b38;\n",
              "  color: #f1f1f1;\n",
              "}\n",
              "#T_1ea68_row7_col1 {\n",
              "  background-color: #004a1e;\n",
              "  color: #f1f1f1;\n",
              "}\n",
              "#T_1ea68_row7_col3 {\n",
              "  background-color: #005221;\n",
              "  color: #f1f1f1;\n",
              "}\n",
              "#T_1ea68_row8_col0 {\n",
              "  background-color: #2c944c;\n",
              "  color: #f1f1f1;\n",
              "}\n",
              "#T_1ea68_row8_col2 {\n",
              "  background-color: #a2d99c;\n",
              "  color: #000000;\n",
              "}\n",
              "</style>\n",
              "<table id=\"T_1ea68\" class=\"dataframe\">\n",
              "  <thead>\n",
              "    <tr>\n",
              "      <th class=\"blank level0\" >&nbsp;</th>\n",
              "      <th id=\"T_1ea68_level0_col0\" class=\"col_heading level0 col0\" >accuracy</th>\n",
              "      <th id=\"T_1ea68_level0_col1\" class=\"col_heading level0 col1\" >precision</th>\n",
              "      <th id=\"T_1ea68_level0_col2\" class=\"col_heading level0 col2\" >recall</th>\n",
              "      <th id=\"T_1ea68_level0_col3\" class=\"col_heading level0 col3\" >f1</th>\n",
              "    </tr>\n",
              "  </thead>\n",
              "  <tbody>\n",
              "    <tr>\n",
              "      <th id=\"T_1ea68_level0_row0\" class=\"row_heading level0 row0\" >Dummy</th>\n",
              "      <td id=\"T_1ea68_row0_col0\" class=\"data row0 col0\" >0.99</td>\n",
              "      <td id=\"T_1ea68_row0_col1\" class=\"data row0 col1\" >0.00</td>\n",
              "      <td id=\"T_1ea68_row0_col2\" class=\"data row0 col2\" >0.00</td>\n",
              "      <td id=\"T_1ea68_row0_col3\" class=\"data row0 col3\" >0.00</td>\n",
              "    </tr>\n",
              "    <tr>\n",
              "      <th id=\"T_1ea68_level0_row1\" class=\"row_heading level0 row1\" >LogisticRegression</th>\n",
              "      <td id=\"T_1ea68_row1_col0\" class=\"data row1 col0\" >0.75</td>\n",
              "      <td id=\"T_1ea68_row1_col1\" class=\"data row1 col1\" >0.01</td>\n",
              "      <td id=\"T_1ea68_row1_col2\" class=\"data row1 col2\" >0.73</td>\n",
              "      <td id=\"T_1ea68_row1_col3\" class=\"data row1 col3\" >0.02</td>\n",
              "    </tr>\n",
              "    <tr>\n",
              "      <th id=\"T_1ea68_level0_row2\" class=\"row_heading level0 row2\" >RandomForest</th>\n",
              "      <td id=\"T_1ea68_row2_col0\" class=\"data row2 col0\" >0.98</td>\n",
              "      <td id=\"T_1ea68_row2_col1\" class=\"data row2 col1\" >0.19</td>\n",
              "      <td id=\"T_1ea68_row2_col2\" class=\"data row2 col2\" >0.94</td>\n",
              "      <td id=\"T_1ea68_row2_col3\" class=\"data row2 col3\" >0.31</td>\n",
              "    </tr>\n",
              "    <tr>\n",
              "      <th id=\"T_1ea68_level0_row3\" class=\"row_heading level0 row3\" >NaiveBayes</th>\n",
              "      <td id=\"T_1ea68_row3_col0\" class=\"data row3 col0\" >0.80</td>\n",
              "      <td id=\"T_1ea68_row3_col1\" class=\"data row3 col1\" >0.01</td>\n",
              "      <td id=\"T_1ea68_row3_col2\" class=\"data row3 col2\" >0.69</td>\n",
              "      <td id=\"T_1ea68_row3_col3\" class=\"data row3 col3\" >0.03</td>\n",
              "    </tr>\n",
              "    <tr>\n",
              "      <th id=\"T_1ea68_level0_row4\" class=\"row_heading level0 row4\" >Voting</th>\n",
              "      <td id=\"T_1ea68_row4_col0\" class=\"data row4 col0\" >1.00</td>\n",
              "      <td id=\"T_1ea68_row4_col1\" class=\"data row4 col1\" >0.71</td>\n",
              "      <td id=\"T_1ea68_row4_col2\" class=\"data row4 col2\" >0.56</td>\n",
              "      <td id=\"T_1ea68_row4_col3\" class=\"data row4 col3\" >0.63</td>\n",
              "    </tr>\n",
              "    <tr>\n",
              "      <th id=\"T_1ea68_level0_row5\" class=\"row_heading level0 row5\" >Stacking</th>\n",
              "      <td id=\"T_1ea68_row5_col0\" class=\"data row5 col0\" >0.88</td>\n",
              "      <td id=\"T_1ea68_row5_col1\" class=\"data row5 col1\" >0.03</td>\n",
              "      <td id=\"T_1ea68_row5_col2\" class=\"data row5 col2\" >0.86</td>\n",
              "      <td id=\"T_1ea68_row5_col3\" class=\"data row5 col3\" >0.05</td>\n",
              "    </tr>\n",
              "    <tr>\n",
              "      <th id=\"T_1ea68_level0_row6\" class=\"row_heading level0 row6\" >AdaBoostClassifier</th>\n",
              "      <td id=\"T_1ea68_row6_col0\" class=\"data row6 col0\" >1.00</td>\n",
              "      <td id=\"T_1ea68_row6_col1\" class=\"data row6 col1\" >0.89</td>\n",
              "      <td id=\"T_1ea68_row6_col2\" class=\"data row6 col2\" >0.77</td>\n",
              "      <td id=\"T_1ea68_row6_col3\" class=\"data row6 col3\" >0.82</td>\n",
              "    </tr>\n",
              "    <tr>\n",
              "      <th id=\"T_1ea68_level0_row7\" class=\"row_heading level0 row7\" >XGBClassifier</th>\n",
              "      <td id=\"T_1ea68_row7_col0\" class=\"data row7 col0\" >1.00</td>\n",
              "      <td id=\"T_1ea68_row7_col1\" class=\"data row7 col1\" >0.87</td>\n",
              "      <td id=\"T_1ea68_row7_col2\" class=\"data row7 col2\" >0.72</td>\n",
              "      <td id=\"T_1ea68_row7_col3\" class=\"data row7 col3\" >0.79</td>\n",
              "    </tr>\n",
              "    <tr>\n",
              "      <th id=\"T_1ea68_level0_row8\" class=\"row_heading level0 row8\" >IsolationForest</th>\n",
              "      <td id=\"T_1ea68_row8_col0\" class=\"data row8 col0\" >0.93</td>\n",
              "      <td id=\"T_1ea68_row8_col1\" class=\"data row8 col1\" >0.03</td>\n",
              "      <td id=\"T_1ea68_row8_col2\" class=\"data row8 col2\" >0.35</td>\n",
              "      <td id=\"T_1ea68_row8_col3\" class=\"data row8 col3\" >0.05</td>\n",
              "    </tr>\n",
              "  </tbody>\n",
              "</table>\n"
            ],
            "text/plain": [
              "<pandas.io.formats.style.Styler at 0x7e7c832dde10>"
            ]
          },
          "execution_count": 42,
          "metadata": {},
          "output_type": "execute_result"
        }
      ],
      "source": [
        "performance_df = pd.DataFrame.from_dict(performance_metrics, orient='index')\n",
        "performance_df.style.format('{:.2f}').background_gradient(cmap='Greens')"
      ]
    }
  ],
  "metadata": {
    "colab": {
      "provenance": []
    },
    "kernelspec": {
      "display_name": "Python 3",
      "name": "python3"
    },
    "language_info": {
      "codemirror_mode": {
        "name": "ipython",
        "version": 3
      },
      "file_extension": ".py",
      "mimetype": "text/x-python",
      "name": "python",
      "nbconvert_exporter": "python",
      "pygments_lexer": "ipython3",
      "version": "3.9.13"
    }
  },
  "nbformat": 4,
  "nbformat_minor": 0
}
